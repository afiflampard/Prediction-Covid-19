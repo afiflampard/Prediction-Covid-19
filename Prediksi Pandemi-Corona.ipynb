{
 "cells": [
  {
   "cell_type": "code",
   "execution_count": 1,
   "metadata": {},
   "outputs": [],
   "source": [
    "import pandas as pd\n",
    "import numpy as np\n",
    "from scipy.stats import mode\n",
    "import matplotlib.pyplot as plt\n",
    "from collections import Counter"
   ]
  },
  {
   "cell_type": "code",
   "execution_count": 2,
   "metadata": {},
   "outputs": [
    {
     "data": {
      "text/html": [
       "<div>\n",
       "<style scoped>\n",
       "    .dataframe tbody tr th:only-of-type {\n",
       "        vertical-align: middle;\n",
       "    }\n",
       "\n",
       "    .dataframe tbody tr th {\n",
       "        vertical-align: top;\n",
       "    }\n",
       "\n",
       "    .dataframe thead th {\n",
       "        text-align: right;\n",
       "    }\n",
       "</style>\n",
       "<table border=\"1\" class=\"dataframe\">\n",
       "  <thead>\n",
       "    <tr style=\"text-align: right;\">\n",
       "      <th></th>\n",
       "      <th>SNo</th>\n",
       "      <th>ObservationDate</th>\n",
       "      <th>Province/State</th>\n",
       "      <th>Country/Region</th>\n",
       "      <th>Last Update</th>\n",
       "      <th>Confirmed</th>\n",
       "      <th>Deaths</th>\n",
       "      <th>Recovered</th>\n",
       "    </tr>\n",
       "  </thead>\n",
       "  <tbody>\n",
       "    <tr>\n",
       "      <td>0</td>\n",
       "      <td>1</td>\n",
       "      <td>01/22/2020</td>\n",
       "      <td>Anhui</td>\n",
       "      <td>Mainland China</td>\n",
       "      <td>1/22/2020 17:00</td>\n",
       "      <td>1.0</td>\n",
       "      <td>0.0</td>\n",
       "      <td>0.0</td>\n",
       "    </tr>\n",
       "    <tr>\n",
       "      <td>1</td>\n",
       "      <td>2</td>\n",
       "      <td>01/22/2020</td>\n",
       "      <td>Beijing</td>\n",
       "      <td>Mainland China</td>\n",
       "      <td>1/22/2020 17:00</td>\n",
       "      <td>14.0</td>\n",
       "      <td>0.0</td>\n",
       "      <td>0.0</td>\n",
       "    </tr>\n",
       "    <tr>\n",
       "      <td>2</td>\n",
       "      <td>3</td>\n",
       "      <td>01/22/2020</td>\n",
       "      <td>Chongqing</td>\n",
       "      <td>Mainland China</td>\n",
       "      <td>1/22/2020 17:00</td>\n",
       "      <td>6.0</td>\n",
       "      <td>0.0</td>\n",
       "      <td>0.0</td>\n",
       "    </tr>\n",
       "    <tr>\n",
       "      <td>3</td>\n",
       "      <td>4</td>\n",
       "      <td>01/22/2020</td>\n",
       "      <td>Fujian</td>\n",
       "      <td>Mainland China</td>\n",
       "      <td>1/22/2020 17:00</td>\n",
       "      <td>1.0</td>\n",
       "      <td>0.0</td>\n",
       "      <td>0.0</td>\n",
       "    </tr>\n",
       "    <tr>\n",
       "      <td>4</td>\n",
       "      <td>5</td>\n",
       "      <td>01/22/2020</td>\n",
       "      <td>Gansu</td>\n",
       "      <td>Mainland China</td>\n",
       "      <td>1/22/2020 17:00</td>\n",
       "      <td>0.0</td>\n",
       "      <td>0.0</td>\n",
       "      <td>0.0</td>\n",
       "    </tr>\n",
       "    <tr>\n",
       "      <td>...</td>\n",
       "      <td>...</td>\n",
       "      <td>...</td>\n",
       "      <td>...</td>\n",
       "      <td>...</td>\n",
       "      <td>...</td>\n",
       "      <td>...</td>\n",
       "      <td>...</td>\n",
       "      <td>...</td>\n",
       "    </tr>\n",
       "    <tr>\n",
       "      <td>13845</td>\n",
       "      <td>13846</td>\n",
       "      <td>04/10/2020</td>\n",
       "      <td>Wyoming</td>\n",
       "      <td>US</td>\n",
       "      <td>10/04/2020 23:01</td>\n",
       "      <td>239.0</td>\n",
       "      <td>0.0</td>\n",
       "      <td>0.0</td>\n",
       "    </tr>\n",
       "    <tr>\n",
       "      <td>13846</td>\n",
       "      <td>13847</td>\n",
       "      <td>04/10/2020</td>\n",
       "      <td>Xinjiang</td>\n",
       "      <td>Mainland China</td>\n",
       "      <td>10/04/2020 23:01</td>\n",
       "      <td>76.0</td>\n",
       "      <td>3.0</td>\n",
       "      <td>73.0</td>\n",
       "    </tr>\n",
       "    <tr>\n",
       "      <td>13847</td>\n",
       "      <td>13848</td>\n",
       "      <td>04/10/2020</td>\n",
       "      <td>Yukon</td>\n",
       "      <td>Canada</td>\n",
       "      <td>10/04/2020 23:01</td>\n",
       "      <td>8.0</td>\n",
       "      <td>0.0</td>\n",
       "      <td>0.0</td>\n",
       "    </tr>\n",
       "    <tr>\n",
       "      <td>13848</td>\n",
       "      <td>13849</td>\n",
       "      <td>04/10/2020</td>\n",
       "      <td>Yunnan</td>\n",
       "      <td>Mainland China</td>\n",
       "      <td>10/04/2020 23:01</td>\n",
       "      <td>184.0</td>\n",
       "      <td>2.0</td>\n",
       "      <td>173.0</td>\n",
       "    </tr>\n",
       "    <tr>\n",
       "      <td>13849</td>\n",
       "      <td>13850</td>\n",
       "      <td>04/10/2020</td>\n",
       "      <td>Zhejiang</td>\n",
       "      <td>Mainland China</td>\n",
       "      <td>10/04/2020 23:01</td>\n",
       "      <td>1267.0</td>\n",
       "      <td>1.0</td>\n",
       "      <td>1235.0</td>\n",
       "    </tr>\n",
       "  </tbody>\n",
       "</table>\n",
       "<p>13850 rows × 8 columns</p>\n",
       "</div>"
      ],
      "text/plain": [
       "         SNo ObservationDate Province/State  Country/Region       Last Update  \\\n",
       "0          1      01/22/2020          Anhui  Mainland China   1/22/2020 17:00   \n",
       "1          2      01/22/2020        Beijing  Mainland China   1/22/2020 17:00   \n",
       "2          3      01/22/2020      Chongqing  Mainland China   1/22/2020 17:00   \n",
       "3          4      01/22/2020         Fujian  Mainland China   1/22/2020 17:00   \n",
       "4          5      01/22/2020          Gansu  Mainland China   1/22/2020 17:00   \n",
       "...      ...             ...            ...             ...               ...   \n",
       "13845  13846      04/10/2020        Wyoming              US  10/04/2020 23:01   \n",
       "13846  13847      04/10/2020       Xinjiang  Mainland China  10/04/2020 23:01   \n",
       "13847  13848      04/10/2020          Yukon          Canada  10/04/2020 23:01   \n",
       "13848  13849      04/10/2020         Yunnan  Mainland China  10/04/2020 23:01   \n",
       "13849  13850      04/10/2020       Zhejiang  Mainland China  10/04/2020 23:01   \n",
       "\n",
       "       Confirmed  Deaths  Recovered  \n",
       "0            1.0     0.0        0.0  \n",
       "1           14.0     0.0        0.0  \n",
       "2            6.0     0.0        0.0  \n",
       "3            1.0     0.0        0.0  \n",
       "4            0.0     0.0        0.0  \n",
       "...          ...     ...        ...  \n",
       "13845      239.0     0.0        0.0  \n",
       "13846       76.0     3.0       73.0  \n",
       "13847        8.0     0.0        0.0  \n",
       "13848      184.0     2.0      173.0  \n",
       "13849     1267.0     1.0     1235.0  \n",
       "\n",
       "[13850 rows x 8 columns]"
      ]
     },
     "execution_count": 2,
     "metadata": {},
     "output_type": "execute_result"
    }
   ],
   "source": [
    "data = pd.read_csv('D:/datmin/covid_19_data.csv',sep=';')\n",
    "dt = pd.DataFrame(data)\n",
    "dt"
   ]
  },
  {
   "cell_type": "code",
   "execution_count": 3,
   "metadata": {},
   "outputs": [
    {
     "data": {
      "text/plain": [
       "array([[1.000e+00, 0.000e+00, 0.000e+00],\n",
       "       [1.400e+01, 0.000e+00, 0.000e+00],\n",
       "       [6.000e+00, 0.000e+00, 0.000e+00],\n",
       "       ...,\n",
       "       [8.000e+00, 0.000e+00, 0.000e+00],\n",
       "       [1.840e+02, 2.000e+00, 1.730e+02],\n",
       "       [1.267e+03, 1.000e+00, 1.235e+03]])"
      ]
     },
     "execution_count": 3,
     "metadata": {},
     "output_type": "execute_result"
    }
   ],
   "source": [
    "listdata = np.array(dt[['Confirmed','Deaths','Recovered']].values.tolist())\n",
    "listdata"
   ]
  },
  {
   "cell_type": "code",
   "execution_count": 4,
   "metadata": {},
   "outputs": [
    {
     "data": {
      "text/html": [
       "<div>\n",
       "<style scoped>\n",
       "    .dataframe tbody tr th:only-of-type {\n",
       "        vertical-align: middle;\n",
       "    }\n",
       "\n",
       "    .dataframe tbody tr th {\n",
       "        vertical-align: top;\n",
       "    }\n",
       "\n",
       "    .dataframe thead th {\n",
       "        text-align: right;\n",
       "    }\n",
       "</style>\n",
       "<table border=\"1\" class=\"dataframe\">\n",
       "  <thead>\n",
       "    <tr style=\"text-align: right;\">\n",
       "      <th></th>\n",
       "      <th>Confirmed</th>\n",
       "      <th>Deaths</th>\n",
       "      <th>Recovered</th>\n",
       "    </tr>\n",
       "  </thead>\n",
       "  <tbody>\n",
       "    <tr>\n",
       "      <td>0</td>\n",
       "      <td>1.0</td>\n",
       "      <td>0.0</td>\n",
       "      <td>0.0</td>\n",
       "    </tr>\n",
       "    <tr>\n",
       "      <td>1</td>\n",
       "      <td>14.0</td>\n",
       "      <td>0.0</td>\n",
       "      <td>0.0</td>\n",
       "    </tr>\n",
       "    <tr>\n",
       "      <td>2</td>\n",
       "      <td>6.0</td>\n",
       "      <td>0.0</td>\n",
       "      <td>0.0</td>\n",
       "    </tr>\n",
       "    <tr>\n",
       "      <td>3</td>\n",
       "      <td>1.0</td>\n",
       "      <td>0.0</td>\n",
       "      <td>0.0</td>\n",
       "    </tr>\n",
       "    <tr>\n",
       "      <td>4</td>\n",
       "      <td>0.0</td>\n",
       "      <td>0.0</td>\n",
       "      <td>0.0</td>\n",
       "    </tr>\n",
       "    <tr>\n",
       "      <td>...</td>\n",
       "      <td>...</td>\n",
       "      <td>...</td>\n",
       "      <td>...</td>\n",
       "    </tr>\n",
       "    <tr>\n",
       "      <td>13845</td>\n",
       "      <td>239.0</td>\n",
       "      <td>0.0</td>\n",
       "      <td>0.0</td>\n",
       "    </tr>\n",
       "    <tr>\n",
       "      <td>13846</td>\n",
       "      <td>76.0</td>\n",
       "      <td>3.0</td>\n",
       "      <td>73.0</td>\n",
       "    </tr>\n",
       "    <tr>\n",
       "      <td>13847</td>\n",
       "      <td>8.0</td>\n",
       "      <td>0.0</td>\n",
       "      <td>0.0</td>\n",
       "    </tr>\n",
       "    <tr>\n",
       "      <td>13848</td>\n",
       "      <td>184.0</td>\n",
       "      <td>2.0</td>\n",
       "      <td>173.0</td>\n",
       "    </tr>\n",
       "    <tr>\n",
       "      <td>13849</td>\n",
       "      <td>1267.0</td>\n",
       "      <td>1.0</td>\n",
       "      <td>1235.0</td>\n",
       "    </tr>\n",
       "  </tbody>\n",
       "</table>\n",
       "<p>13850 rows × 3 columns</p>\n",
       "</div>"
      ],
      "text/plain": [
       "       Confirmed  Deaths  Recovered\n",
       "0            1.0     0.0        0.0\n",
       "1           14.0     0.0        0.0\n",
       "2            6.0     0.0        0.0\n",
       "3            1.0     0.0        0.0\n",
       "4            0.0     0.0        0.0\n",
       "...          ...     ...        ...\n",
       "13845      239.0     0.0        0.0\n",
       "13846       76.0     3.0       73.0\n",
       "13847        8.0     0.0        0.0\n",
       "13848      184.0     2.0      173.0\n",
       "13849     1267.0     1.0     1235.0\n",
       "\n",
       "[13850 rows x 3 columns]"
      ]
     },
     "execution_count": 4,
     "metadata": {},
     "output_type": "execute_result"
    }
   ],
   "source": [
    "ambil = pd.DataFrame(data = listdata,columns=['Confirmed','Deaths','Recovered'])\n",
    "ambil"
   ]
  },
  {
   "cell_type": "code",
   "execution_count": 5,
   "metadata": {},
   "outputs": [
    {
     "name": "stdout",
     "output_type": "stream",
     "text": [
      "[[1.000e+00]\n",
      " [1.400e+01]\n",
      " [6.000e+00]\n",
      " ...\n",
      " [8.000e+00]\n",
      " [1.840e+02]\n",
      " [1.267e+03]]\n",
      "[[0.]\n",
      " [0.]\n",
      " [0.]\n",
      " ...\n",
      " [0.]\n",
      " [2.]\n",
      " [1.]]\n"
     ]
    }
   ],
   "source": [
    "x = ambil.iloc[:,0].values.reshape(-1,1)\n",
    "y = ambil.iloc[:,1].values.reshape(-1,1)\n",
    "print(x)\n",
    "print(y)"
   ]
  },
  {
   "cell_type": "code",
   "execution_count": 6,
   "metadata": {},
   "outputs": [],
   "source": [
    "from sklearn.model_selection import train_test_split\n",
    "x_train,x_test,y_train,y_test = train_test_split(x,y,test_size=0.2,random_state=0)"
   ]
  },
  {
   "cell_type": "code",
   "execution_count": 7,
   "metadata": {},
   "outputs": [
    {
     "data": {
      "text/plain": [
       "LinearRegression(copy_X=True, fit_intercept=True, n_jobs=None, normalize=False)"
      ]
     },
     "execution_count": 7,
     "metadata": {},
     "output_type": "execute_result"
    }
   ],
   "source": [
    "from sklearn.linear_model import LinearRegression\n",
    "from sklearn.linear_model import LogisticRegression\n",
    "from sklearn.metrics import plot_confusion_matrix\n",
    "regressor = LinearRegression()\n",
    "regressor.fit(x_train,y_train)"
   ]
  },
  {
   "cell_type": "code",
   "execution_count": 8,
   "metadata": {},
   "outputs": [
    {
     "name": "stdout",
     "output_type": "stream",
     "text": [
      "[-30.31371355]\n"
     ]
    }
   ],
   "source": [
    "print(regressor.intercept_)"
   ]
  },
  {
   "cell_type": "code",
   "execution_count": 9,
   "metadata": {},
   "outputs": [
    {
     "name": "stdout",
     "output_type": "stream",
     "text": [
      "[[0.06727337]]\n"
     ]
    }
   ],
   "source": [
    "print(regressor.coef_)\n",
    "#Artinya Y = 0.06727337x - (-30.31371355)"
   ]
  },
  {
   "cell_type": "code",
   "execution_count": 10,
   "metadata": {},
   "outputs": [
    {
     "data": {
      "text/plain": [
       "0.75462583895044"
      ]
     },
     "execution_count": 10,
     "metadata": {},
     "output_type": "execute_result"
    }
   ],
   "source": [
    "regressor.score(x_test,y_test)\n",
    "#Akurasi = 0.75462583895044"
   ]
  },
  {
   "cell_type": "code",
   "execution_count": 11,
   "metadata": {},
   "outputs": [],
   "source": [
    "y_pred = regressor.predict(x_test)"
   ]
  },
  {
   "cell_type": "code",
   "execution_count": 24,
   "metadata": {},
   "outputs": [
    {
     "data": {
      "text/html": [
       "<div>\n",
       "<style scoped>\n",
       "    .dataframe tbody tr th:only-of-type {\n",
       "        vertical-align: middle;\n",
       "    }\n",
       "\n",
       "    .dataframe tbody tr th {\n",
       "        vertical-align: top;\n",
       "    }\n",
       "\n",
       "    .dataframe thead th {\n",
       "        text-align: right;\n",
       "    }\n",
       "</style>\n",
       "<table border=\"1\" class=\"dataframe\">\n",
       "  <thead>\n",
       "    <tr style=\"text-align: right;\">\n",
       "      <th></th>\n",
       "      <th>Actual</th>\n",
       "      <th>Predicted</th>\n",
       "    </tr>\n",
       "  </thead>\n",
       "  <tbody>\n",
       "    <tr>\n",
       "      <td>0</td>\n",
       "      <td>765.0</td>\n",
       "      <td>1426.625625</td>\n",
       "    </tr>\n",
       "    <tr>\n",
       "      <td>1</td>\n",
       "      <td>0.0</td>\n",
       "      <td>-29.506433</td>\n",
       "    </tr>\n",
       "    <tr>\n",
       "      <td>2</td>\n",
       "      <td>0.0</td>\n",
       "      <td>-8.786236</td>\n",
       "    </tr>\n",
       "    <tr>\n",
       "      <td>3</td>\n",
       "      <td>22.0</td>\n",
       "      <td>103.425743</td>\n",
       "    </tr>\n",
       "    <tr>\n",
       "      <td>4</td>\n",
       "      <td>0.0</td>\n",
       "      <td>-30.246440</td>\n",
       "    </tr>\n",
       "    <tr>\n",
       "      <td>...</td>\n",
       "      <td>...</td>\n",
       "      <td>...</td>\n",
       "    </tr>\n",
       "    <tr>\n",
       "      <td>2765</td>\n",
       "      <td>0.0</td>\n",
       "      <td>-27.286412</td>\n",
       "    </tr>\n",
       "    <tr>\n",
       "      <td>2766</td>\n",
       "      <td>2.0</td>\n",
       "      <td>-18.002687</td>\n",
       "    </tr>\n",
       "    <tr>\n",
       "      <td>2767</td>\n",
       "      <td>5.0</td>\n",
       "      <td>-2.731633</td>\n",
       "    </tr>\n",
       "    <tr>\n",
       "      <td>2768</td>\n",
       "      <td>9.0</td>\n",
       "      <td>13.413976</td>\n",
       "    </tr>\n",
       "    <tr>\n",
       "      <td>2769</td>\n",
       "      <td>0.0</td>\n",
       "      <td>-29.640980</td>\n",
       "    </tr>\n",
       "  </tbody>\n",
       "</table>\n",
       "<p>2770 rows × 2 columns</p>\n",
       "</div>"
      ],
      "text/plain": [
       "      Actual    Predicted\n",
       "0      765.0  1426.625625\n",
       "1        0.0   -29.506433\n",
       "2        0.0    -8.786236\n",
       "3       22.0   103.425743\n",
       "4        0.0   -30.246440\n",
       "...      ...          ...\n",
       "2765     0.0   -27.286412\n",
       "2766     2.0   -18.002687\n",
       "2767     5.0    -2.731633\n",
       "2768     9.0    13.413976\n",
       "2769     0.0   -29.640980\n",
       "\n",
       "[2770 rows x 2 columns]"
      ]
     },
     "execution_count": 24,
     "metadata": {},
     "output_type": "execute_result"
    }
   ],
   "source": [
    "DF = pd.DataFrame({'Actual':y_test.flatten(),'Predicted':y_pred.flatten()})\n",
    "DF"
   ]
  },
  {
   "cell_type": "code",
   "execution_count": 12,
   "metadata": {},
   "outputs": [
    {
     "data": {
      "text/plain": [
       "Text(0.5, 1.0, 'Plot Deaths vs Confirmed')"
      ]
     },
     "execution_count": 12,
     "metadata": {},
     "output_type": "execute_result"
    },
    {
     "data": {
      "image/png": "[encoded data removed]",
      "text/plain": [
       "<Figure size 432x288 with 1 Axes>"
      ]
     },
     "metadata": {
      "needs_background": "light"
     },
     "output_type": "display_data"
    }
   ],
   "source": [
    "plt.scatter(x_test, y_test)\n",
    "plt.plot(x_test, y_pred, c='r')\n",
    "plt.xlabel('Confirmed')\n",
    "plt.ylabel('Deaths')\n",
    "plt.title('Plot Deaths vs Confirmed')"
   ]
  },
  {
   "cell_type": "code",
   "execution_count": 26,
   "metadata": {},
   "outputs": [
    {
     "data": {
      "text/plain": [
       "array([[424.45425653]])"
      ]
     },
     "execution_count": 26,
     "metadata": {},
     "output_type": "execute_result"
    }
   ],
   "source": [
    "regressor.predict([[6760]])"
   ]
  },
  {
   "cell_type": "code",
   "execution_count": 20,
   "metadata": {},
   "outputs": [],
   "source": [
    "x = ambil.iloc[:,0].values.reshape(-1,1)\n",
    "y = ambil.iloc[:,1].values.reshape(-1,1)\n",
    "X_train,X_test,Y_train,Y_test = train_test_split(x,y,random_state=0)"
   ]
  },
  {
   "cell_type": "code",
   "execution_count": 21,
   "metadata": {},
   "outputs": [
    {
     "name": "stderr",
     "output_type": "stream",
     "text": [
      "C:\\Users\\Afif\\Anaconda3\\envs\\Citra\\lib\\site-packages\\sklearn\\utils\\validation.py:760: DataConversionWarning: A column-vector y was passed when a 1d array was expected. Please change the shape of y to (n_samples, ), for example using ravel().\n",
      "  y = column_or_1d(y, warn=True)\n",
      "C:\\Users\\Afif\\Anaconda3\\envs\\Citra\\lib\\site-packages\\sklearn\\linear_model\\_logistic.py:940: ConvergenceWarning: lbfgs failed to converge (status=1):\n",
      "STOP: TOTAL NO. of ITERATIONS REACHED LIMIT.\n",
      "\n",
      "Increase the number of iterations (max_iter) or scale the data as shown in:\n",
      "    https://scikit-learn.org/stable/modules/preprocessing.html\n",
      "Please also refer to the documentation for alternative solver options:\n",
      "    https://scikit-learn.org/stable/modules/linear_model.html#logistic-regression\n",
      "  extra_warning_msg=_LOGISTIC_SOLVER_CONVERGENCE_MSG)\n"
     ]
    },
    {
     "data": {
      "text/plain": [
       "LogisticRegression(C=1.0, class_weight=None, dual=False, fit_intercept=True,\n",
       "                   intercept_scaling=1, l1_ratio=None, max_iter=100,\n",
       "                   multi_class='auto', n_jobs=None, penalty='l2',\n",
       "                   random_state=None, solver='lbfgs', tol=0.0001, verbose=0,\n",
       "                   warm_start=False)"
      ]
     },
     "execution_count": 21,
     "metadata": {},
     "output_type": "execute_result"
    }
   ],
   "source": [
    "clf = LogisticRegression()\n",
    "clf.fit(X_train,Y_train)"
   ]
  },
  {
   "cell_type": "code",
   "execution_count": 22,
   "metadata": {},
   "outputs": [
    {
     "data": {
      "image/png": "[encoded data removed]",
      "text/plain": [
       "<Figure size 432x288 with 2 Axes>"
      ]
     },
     "metadata": {
      "needs_background": "light"
     },
     "output_type": "display_data"
    }
   ],
   "source": [
    "disp = plot_confusion_matrix(clf,X_test,Y_test,cmap='Blues',values_format = '.3g')"
   ]
  },
  {
   "cell_type": "code",
   "execution_count": 23,
   "metadata": {},
   "outputs": [
    {
     "data": {
      "text/plain": [
       "array([[1783,    7,    0, ...,    0,    0,    0],\n",
       "       [ 368,   27,    0, ...,    0,    0,    0],\n",
       "       [ 200,    6,    0, ...,    0,    0,    0],\n",
       "       ...,\n",
       "       [   0,    1,    0, ...,    0,    0,    0],\n",
       "       [   0,    1,    0, ...,    0,    0,    0],\n",
       "       [   0,    1,    0, ...,    0,    0,    0]], dtype=int64)"
      ]
     },
     "execution_count": 23,
     "metadata": {},
     "output_type": "execute_result"
    }
   ],
   "source": [
    "disp.confusion_matrix"
   ]
  },
  {
   "cell_type": "code",
   "execution_count": 81,
   "metadata": {},
   "outputs": [
    {
     "data": {
      "text/plain": [
       "array([1710.1766065 ,   84.42361011,  423.10801444])"
      ]
     },
     "execution_count": 81,
     "metadata": {},
     "output_type": "execute_result"
    }
   ],
   "source": [
    "#Menghitung rata rata\n",
    "rata = np.mean(listdata,axis=0)\n",
    "rata"
   ]
  },
  {
   "cell_type": "code",
   "execution_count": 82,
   "metadata": {},
   "outputs": [
    {
     "data": {
      "text/plain": [
       "array([58.,  0.,  1.])"
      ]
     },
     "execution_count": 82,
     "metadata": {},
     "output_type": "execute_result"
    }
   ],
   "source": [
    "#Menghitung median\n",
    "median = np.median(listdata,axis=0)\n",
    "median"
   ]
  },
  {
   "cell_type": "code",
   "execution_count": 83,
   "metadata": {},
   "outputs": [
    {
     "name": "stdout",
     "output_type": "stream",
     "text": [
      "ModeResult(mode=array([[1., 0., 0.]]), count=array([[1543, 7237, 6587]]))\n"
     ]
    }
   ],
   "source": [
    "#Menghitung modus\n",
    "modus = mode(listdata,axis=0)\n",
    "print(modus)"
   ]
  },
  {
   "cell_type": "code",
   "execution_count": 84,
   "metadata": {},
   "outputs": [
    {
     "name": "stdout",
     "output_type": "stream",
     "text": [
      "[0. 0. 0. ... 0. 2. 1.]\n"
     ]
    },
    {
     "data": {
      "text/plain": [
       "Text(0, 0.5, 'Deaths')"
      ]
     },
     "execution_count": 84,
     "metadata": {},
     "output_type": "execute_result"
    },
    {
     "data": {
      "image/png": "[encoded data removed]",
      "text/plain": [
       "<Figure size 432x288 with 1 Axes>"
      ]
     },
     "metadata": {
      "needs_background": "light"
     },
     "output_type": "display_data"
    }
   ],
   "source": [
    "print(listdata[:,1])\n",
    "plt.plot(listdata[:,0],listdata[:,1],'g--')\n",
    "plt.xlabel('Confirmed')\n",
    "plt.ylabel('Deaths')"
   ]
  },
  {
   "cell_type": "code",
   "execution_count": 85,
   "metadata": {},
   "outputs": [
    {
     "data": {
      "text/plain": [
       "Text(0, 0.5, 'Deaths')"
      ]
     },
     "execution_count": 85,
     "metadata": {},
     "output_type": "execute_result"
    },
    {
     "data": {
      "image/png": "[encoded data removed]",
      "text/plain": [
       "<Figure size 432x288 with 1 Axes>"
      ]
     },
     "metadata": {
      "needs_background": "light"
     },
     "output_type": "display_data"
    }
   ],
   "source": [
    "plt.scatter(listdata[:,0],listdata[:,1])\n",
    "plt.xlabel('Confirmed')\n",
    "plt.ylabel('Deaths')"
   ]
  },
  {
   "cell_type": "code",
   "execution_count": 86,
   "metadata": {},
   "outputs": [
    {
     "data": {
      "text/plain": [
       "Text(0, 0.5, 'Recovered')"
      ]
     },
     "execution_count": 86,
     "metadata": {},
     "output_type": "execute_result"
    },
    {
     "data": {
      "image/png": "[encoded data removed]",
      "text/plain": [
       "<Figure size 432x288 with 1 Axes>"
      ]
     },
     "metadata": {
      "needs_background": "light"
     },
     "output_type": "display_data"
    }
   ],
   "source": [
    "plt.scatter(listdata[:,0],listdata[:,2])\n",
    "plt.xlabel('Confirmed')\n",
    "plt.ylabel('Recovered')"
   ]
  },
  {
   "cell_type": "code",
   "execution_count": 87,
   "metadata": {},
   "outputs": [
    {
     "name": "stdout",
     "output_type": "stream",
     "text": [
      "24.740603562973586\n"
     ]
    }
   ],
   "source": [
    "#Kemungkinan orang hidup\n",
    "jumlah_semuanya = np.sum(listdata,axis=0)\n",
    "prediksi_orang_hidup = (jumlah_semuanya[2]/jumlah_semuanya[0]) * 100\n",
    "print(prediksi_orang_hidup)"
   ]
  },
  {
   "cell_type": "code",
   "execution_count": 88,
   "metadata": {},
   "outputs": [
    {
     "name": "stdout",
     "output_type": "stream",
     "text": [
      "4.936543383152187\n"
     ]
    }
   ],
   "source": [
    "#Kemungkinan orang mati\n",
    "prediksi_orang_mati = (jumlah_semuanya[1]/jumlah_semuanya[0]) * 100\n",
    "print(prediksi_orang_mati)"
   ]
  },
  {
   "cell_type": "code",
   "execution_count": 140,
   "metadata": {},
   "outputs": [
    {
     "name": "stdout",
     "output_type": "stream",
     "text": [
      "[5. 0. 0.]\n",
      "[58.  0.  1.]\n",
      "[392.   4.  28.]\n",
      "[387.   4.  28.]\n",
      "[580.5   6.   42. ]\n"
     ]
    }
   ],
   "source": [
    "quartil1 = np.quantile(listdata,.25,axis = 0)\n",
    "quartil2 = np.quantile(listdata,.50,axis = 0)\n",
    "quartil3 = np.quantile(listdata,.75,axis = 0)\n",
    "IQR = quartil3-quartil1\n",
    "print(quartil1)\n",
    "print(quartil2)\n",
    "print(quartil3)\n",
    "print(IQR)\n",
    "print(1.5 * IQR)"
   ]
  },
  {
   "cell_type": "code",
   "execution_count": 90,
   "metadata": {},
   "outputs": [
    {
     "name": "stdout",
     "output_type": "stream",
     "text": [
      "[-575.5   -6.   -42. ]\n",
      "[972.5  10.   70. ]\n"
     ]
    }
   ],
   "source": [
    "nilai = quartil1 - (1.5 * IQR)\n",
    "nilai2 = quartil3 + (1.5 * IQR)\n",
    "print(nilai)\n",
    "print(nilai2)\n"
   ]
  },
  {
   "cell_type": "code",
   "execution_count": 91,
   "metadata": {},
   "outputs": [
    {
     "name": "stdout",
     "output_type": "stream",
     "text": [
      "[1058.0, 1423.0, 3554.0, 3554.0, 4903.0, 5806.0, 7153.0, 11177.0, 13522.0, 16678.0, 19665.0, 22112.0, 24953.0, 1034.0, 1006.0, 27100.0, 1095.0, 1048.0, 981.0, 29631.0, 1131.0, 1075.0, 1033.0, 31728.0, 1159.0, 1092.0, 1073.0, 33366.0, 1177.0, 1117.0, 1105.0, 33366.0, 1219.0, 1135.0, 1131.0, 48206.0, 1241.0, 1169.0, 1145.0, 54406.0, 1261.0, 1184.0, 1155.0, 988.0, 56249.0, 1294.0, 1212.0, 1162.0, 1001.0, 58182.0, 1316.0, 1231.0, 1167.0, 1004.0, 59989.0, 1322.0, 1246.0, 1171.0, 1006.0, 973.0, 61682.0, 1328.0, 1257.0, 1172.0, 1007.0, 982.0, 62031.0, 1331.0, 1262.0, 1174.0, 1008.0, 986.0, 62442.0, 1332.0, 1265.0, 1175.0, 1010.0, 987.0, 62662.0, 1333.0, 1267.0, 1203.0, 1011.0, 988.0, 64084.0, 1339.0, 1270.0, 1205.0, 1013.0, 989.0, 64084.0, 1342.0, 1271.0, 1205.0, 1016.0, 989.0, 64287.0, 1345.0, 1271.0, 1205.0, 1016.0, 989.0, 64786.0, 1347.0, 1271.0, 1205.0, 1016.0, 989.0, 977.0, 65187.0, 1347.0, 1271.0, 1261.0, 1205.0, 1016.0, 989.0, 65596.0, 1766.0, 1347.0, 1272.0, 1205.0, 1017.0, 989.0, 65914.0, 2337.0, 1348.0, 1272.0, 1205.0, 1017.0, 990.0, 66337.0, 3150.0, 1349.0, 1272.0, 1205.0, 1128.0, 1018.0, 990.0, 66907.0, 3736.0, 1694.0, 1349.0, 1272.0, 1205.0, 1018.0, 990.0, 978.0, 67103.0, 4335.0, 2036.0, 1501.0, 1350.0, 1272.0, 1206.0, 1018.0, 990.0, 67217.0, 5186.0, 2502.0, 2336.0, 1350.0, 1272.0, 1213.0, 1018.0, 990.0, 67332.0, 5621.0, 3089.0, 2922.0, 1350.0, 1272.0, 1213.0, 1018.0, 990.0, 67466.0, 6088.0, 3858.0, 3513.0, 1351.0, 1272.0, 1215.0, 1018.0, 990.0, 67592.0, 6593.0, 4747.0, 4636.0, 1352.0, 1272.0, 1215.0, 1018.0, 990.0, 67666.0, 7041.0, 5883.0, 5823.0, 1352.0, 1272.0, 1215.0, 1018.0, 990.0, 67707.0, 7375.0, 7314.0, 6566.0, 1352.0, 1272.0, 1215.0, 1126.0, 1040.0, 1018.0, 990.0, 67743.0, 9172.0, 7478.0, 7161.0, 1352.0, 1272.0, 1215.0, 1209.0, 1176.0, 1073.0, 1018.0, 990.0, 67760.0, 10149.0, 8042.0, 7513.0, 1784.0, 1695.0, 1457.0, 1353.0, 1272.0, 1215.0, 1018.0, 990.0, 67773.0, 12462.0, 9000.0, 7755.0, 2281.0, 2277.0, 1908.0, 1356.0, 1273.0, 1215.0, 1018.0, 990.0, 67781.0, 12462.0, 10075.0, 7869.0, 2281.0, 2277.0, 2078.0, 1356.0, 1273.0, 1215.0, 1018.0, 990.0, 67786.0, 1356.0, 1273.0, 1215.0, 1018.0, 990.0, 3675.0, 17660.0, 1139.0, 996.0, 3661.0, 11364.0, 7979.0, 5232.0, 67790.0, 21157.0, 12729.0, 8086.0, 6391.0, 4585.0, 4469.0, 1359.0, 1356.0, 1273.0, 1227.0, 1140.0, 1090.0, 1018.0, 990.0, 67794.0, 24747.0, 13938.0, 8162.0, 7798.0, 5795.0, 4499.0, 2200.0, 1360.0, 1273.0, 1231.0, 1221.0, 1140.0, 1135.0, 1022.0, 1018.0, 990.0, 67798.0, 27980.0, 14991.0, 9942.0, 8236.0, 7272.0, 6633.0, 2200.0, 1543.0, 1413.0, 1361.0, 1333.0, 1273.0, 1231.0, 1103.0, 1058.0, 1018.0, 1018.0, 990.0, 67799.0, 31506.0, 16169.0, 11748.0, 9257.0, 8320.0, 7652.0, 2700.0, 1950.0, 1706.0, 1705.0, 1463.0, 1364.0, 1332.0, 1273.0, 1243.0, 1232.0, 1190.0, 1076.0, 1018.0, 990.0, 977.0, 67800.0, 35713.0, 17361.0, 13910.0, 12327.0, 9043.0, 8413.0, 3028.0, 2626.0, 2495.0, 2051.0, 1646.0, 1550.0, 1486.0, 1370.0, 1279.0, 1273.0, 1232.0, 1057.0, 1018.0, 1014.0, 990.0, 67800.0, 41035.0, 18407.0, 17963.0, 15320.0, 10871.0, 8565.0, 5365.0, 4075.0, 2689.0, 2460.0, 2013.0, 1795.0, 1746.0, 1439.0, 1378.0, 1376.0, 1273.0, 1233.0, 1151.0, 1018.0, 990.0, 67800.0, 47021.0, 20410.0, 19848.0, 19644.0, 12612.0, 8652.0, 8310.0, 5294.0, 3983.0, 2994.0, 2388.0, 2257.0, 1914.0, 1639.0, 1524.0, 1395.0, 1273.0, 1255.0, 1234.0, 1177.0, 1030.0, 1020.0, 1018.0, 990.0, 67800.0, 53578.0, 25374.0, 22213.0, 20610.0, 14282.0, 11710.0, 8799.0, 6575.0, 5018.0, 3631.0, 2815.0, 2814.0, 2118.0, 1793.0, 1763.0, 1400.0, 1364.0, 1327.0, 1326.0, 1280.0, 1273.0, 1236.0, 1183.0, 1021.0, 1018.0, 1007.0, 995.0, 990.0, 3580.0, 3401.0, 1546.0, 1120.0, 1395.0, 16018.0, 24873.0, 21638.0, 1071.0, 59138.0, 1086.0, 1306.0, 4204.0, 2263.0, 1600.0, 8897.0, 28603.0, 1931.0, 7474.0, 1236.0, 5683.0, 990.0, 1646.0, 1004.0, 1407.0, 1273.0, 67800.0, 1018.0, 1049.0, 1035.0, 1914.0, 15800.0, 1997.0, 1237.0, 4474.0, 3743.0, 1924.0, 1236.0, 1450.0, 981.0, 29056.0, 23049.0, 1125.0, 1442.0, 63927.0, 1128.0, 1518.0, 4749.0, 2621.0, 2060.0, 8961.0, 35136.0, 2046.0, 8795.0, 1529.0, 6650.0, 990.0, 2108.0, 1227.0, 19874.0, 1415.0, 1274.0, 67800.0, 1018.0, 1285.0, 1172.0, 1329.0, 2844.0, 20884.0, 2221.0, 1238.0, 5283.0, 4269.0, 2247.0, 1394.0, 1591.0, 1082.0, 22304.0, 32986.0, 24811.0, 1329.0, 1930.0, 69176.0, 1193.0, 1099.0, 1624.0, 5560.0, 2863.0, 2362.0, 9037.0, 39885.0, 2286.0, 9877.0, 1872.0, 8077.0, 990.0, 2538.0, 1412.0, 1026.0, 1428.0, 1274.0, 67801.0, 1018.0, 1537.0, 1388.0, 1159.0, 1793.0, 3675.0, 25681.0, 1013.0, 2328.0, 1240.0, 5588.0, 4937.0, 2554.0, 1142.0, 1654.0, 1724.0, 1173.0, 25233.0, 37323.0, 27017.0, 1564.0, 2369.0, 74386.0, 1307.0, 1333.0, 1796.0, 6412.0, 3084.0, 1063.0, 1051.0, 2995.0, 9137.0, 49515.0, 2526.0, 10897.0, 2433.0, 9529.0, 990.0, 2998.0, 1021.0, 1682.0, 1247.0, 1433.0, 1274.0, 67801.0, 1018.0, 1865.0, 1795.0, 1838.0, 2296.0, 4402.0, 1029.0, 30841.0, 1260.0, 1342.0, 1229.0, 2591.0, 1241.0, 6909.0, 6235.0, 2985.0, 1306.0, 1925.0, 1877.0, 1403.0, 29155.0, 43938.0, 29406.0, 1819.0, 2693.0, 80589.0, 1387.0, 1453.0, 2031.0, 7431.0, 3369.0, 1201.0, 1221.0, 3544.0, 1029.0, 1012.0, 9241.0, 57786.0, 2840.0, 11811.0, 1045.0, 3629.0, 11658.0, 990.0, 3899.0, 1430.0, 1012.0, 2357.0, 1525.0, 1448.0, 1275.0, 67801.0, 1018.0, 2538.0, 2304.0, 2417.0, 2845.0, 6876.0, 1219.0, 37877.0, 1795.0, 1632.0, 1097.0, 1563.0, 3207.0, 1243.0, 7657.0, 7284.0, 3417.0, 1610.0, 2279.0, 2046.0, 1595.0, 1041.0, 32964.0, 50871.0, 1046.0, 32332.0, 2121.0, 3035.0, 86498.0, 1468.0, 1605.0, 2161.0, 8603.0, 3755.0, 1373.0, 1389.0, 4268.0, 1292.0, 1036.0, 1104.0, 1170.0, 9332.0, 65719.0, 3069.0, 12928.0, 1136.0, 5698.0, 14543.0, 990.0, 4657.0, 1433.0, 1291.0, 2900.0, 2000.0, 1456.0, 1275.0, 67801.0, 1018.0, 3024.0, 979.0, 2744.0, 3240.0, 3634.0, 8825.0, 1405.0, 44876.0, 1137.0, 994.0, 2345.0, 2024.0, 1318.0, 1937.0, 3477.0, 1247.0, 8271.0, 9134.0, 3904.0, 1909.0, 2631.0, 2201.0, 1823.0, 1167.0, 37575.0, 57695.0, 1061.0, 987.0, 1155.0, 35408.0, 2415.0, 3619.0, 92472.0, 1693.0, 1831.0, 2320.0, 9762.0, 4015.0, 1495.0, 1075.0, 1638.0, 5170.0, 1452.0, 1264.0, 1203.0, 1187.0, 9478.0, 73235.0, 3447.0, 14076.0, 1245.0, 7402.0, 17089.0, 990.0, 5095.0, 1740.0, 1524.0, 3763.0, 2366.0, 1467.0, 1275.0, 67801.0, 1018.0, 3491.0, 1233.0, 3315.0, 995.0, 4257.0, 4650.0, 11124.0, 1617.0, 52410.0, 1020.0, 1406.0, 1144.0, 2845.0, 2498.0, 1511.0, 2455.0, 4030.0, 1055.0, 1251.0, 8788.0, 10836.0, 4256.0, 2139.0, 2817.0, 2395.0, 1924.0, 1240.0, 40174.0, 62095.0, 1156.0, 1020.0, 1024.0, 1285.0, 38309.0, 2615.0, 4247.0, 97689.0, 1866.0, 1950.0, 2470.0, 10866.0, 4284.0, 1597.0, 1418.0, 1862.0, 5962.0, 1815.0, 1534.0, 1299.0, 1280.0, 9583.0, 80110.0, 3700.0, 14829.0, 1388.0, 9217.0, 19522.0, 990.0, 5852.0, 2307.0, 1993.0, 4246.0, 2651.0, 1475.0, 1276.0, 67801.0, 1018.0, 4596.0, 1513.0, 3540.0, 1239.0, 4955.0, 5488.0, 13386.0, 1791.0, 59648.0, 1191.0, 1653.0, 1355.0, 3432.0, 2840.0, 1720.0, 2792.0, 4465.0, 1164.0, 1254.0, 9618.0, 11899.0, 4579.0, 2449.0, 3001.0, 2577.0, 1962.0, 1352.0, 44550.0, 66885.0, 1212.0, 1086.0, 1251.0, 1414.0, 41495.0, 2910.0, 4695.0, 101739.0, 1866.0, 1988.0, 2626.0, 993.0, 11750.0, 4445.0, 1717.0, 989.0, 1546.0, 2055.0, 6408.0, 2109.0, 1836.0, 1453.0, 1326.0, 9661.0, 87956.0, 4028.0, 15922.0, 1524.0, 10827.0, 22141.0, 990.0, 1157.0, 7138.0, 2311.0, 2571.0, 5473.0, 2808.0, 1484.0, 1276.0, 67801.0, 1018.0, 5056.0, 1786.0, 4025.0, 1413.0, 5752.0, 6498.0, 1051.0, 1012.0, 16636.0, 2032.0, 66663.0, 1313.0, 1933.0, 1706.0, 4155.0, 3430.0, 1917.0, 3147.0, 1020.0, 4923.0, 1230.0, 1255.0, 1054.0, 10180.0, 12775.0, 5717.0, 2738.0, 3308.0, 2860.0, 1109.0, 2240.0, 1418.0, 52128.0, 71808.0, 1314.0, 1135.0, 1397.0, 1528.0, 44605.0, 3235.0, 5358.0, 105792.0, 1953.0, 2178.0, 2766.0, 1094.0, 12595.0, 4641.0, 1938.0, 1181.0, 1065.0, 2084.0, 2311.0, 7443.0, 2245.0, 2337.0, 1563.0, 1353.0, 9786.0, 95923.0, 4435.0, 16605.0, 1651.0, 13531.0, 25150.0, 987.0, 990.0, 1289.0, 1013.0, 8210.0, 2966.0, 3128.0, 6741.0, 3929.0, 1494.0, 1276.0, 67801.0, 1018.0, 5994.0, 2158.0, 5237.0, 1660.0, 6620.0, 7615.0, 1357.0, 1114.0, 18696.0, 2032.0, 75833.0, 1535.0, 2199.0, 1966.0, 4963.0, 4162.0, 1083.0, 2391.0, 3809.0, 1249.0, 5432.0, 1412.0, 1257.0, 1054.0, 10711.0, 13964.0, 6836.0, 3031.0, 1065.0, 3508.0, 3107.0, 1284.0, 2748.0, 1446.0, 56989.0, 77872.0, 1415.0, 1220.0, 1998.0, 1677.0, 47593.0, 3447.0, 6092.0, 110574.0, 2178.0, 2319.0, 2908.0, 1215.0, 13614.0, 4863.0, 2118.0, 1181.0, 1323.0, 2311.0, 2554.0, 8251.0, 2460.0, 2777.0, 1720.0, 1060.0, 1000.0, 1380.0, 9887.0, 104118.0, 4947.0, 17768.0, 1771.0, 15679.0, 29474.0, 1060.0, 990.0, 1530.0, 1013.0, 9399.0, 2982.0, 3557.0, 6956.0, 4638.0, 1501.0, 1276.0, 67802.0, 1018.0, 6980.0, 2564.0, 6424.0, 1986.0, 7738.0, 9315.0, 1073.0, 1613.0, 1279.0, 22255.0, 2182.0, 83948.0, 1675.0, 2547.0, 2392.0, 6009.0, 4611.0, 1293.0, 2933.0, 4355.0, 1483.0, 5608.0, 1556.0, 1257.0, 986.0, 1133.0, 11129.0, 15348.0, 8044.0, 3404.0, 1161.0, 1011.0, 3858.0, 3386.0, 1380.0, 3163.0, 1518.0, 59105.0, 84794.0, 1544.0, 1319.0, 2543.0, 1790.0, 50468.0, 3849.0, 6857.0, 115242.0, 2495.0, 2487.0, 3116.0, 1378.0, 14697.0, 5147.0, 2421.0, 1317.0, 1414.0, 2633.0, 2946.0, 9034.0, 2738.0, 3548.0, 1885.0, 1171.0, 1049.0, 1462.0, 9976.0, 112065.0, 5568.0, 18827.0, 1875.0, 18135.0, 33718.0, 1024.0, 1233.0, 990.0, 1715.0, 1121.0, 10773.0, 3342.0, 3824.0, 9008.0, 5348.0, 1507.0, 1276.0, 67802.0, 1019.0, 7695.0, 3038.0, 9149.0, 2331.0, 8966.0, 10791.0, 1177.0, 1857.0, 1463.0, 25590.0, 2298.0, 92506.0, 1977.0, 2901.0, 2793.0, 7268.0, 5518.0, 1554.0, 3013.0, 5069.0, 1092.0, 1036.0, 1706.0, 6389.0, 1748.0, 1258.0, 1171.0, 1265.0, 11524.0, 16770.0, 9056.0, 3737.0, 1267.0, 1079.0, 4091.0, 3757.0, 1488.0, 3368.0, 985.0, 1615.0, 64338.0, 91159.0, 1613.0, 1364.0, 2567.0, 1986.0, 53183.0, 4273.0, 7428.0, 119827.0, 2617.0, 2612.0, 3333.0, 1510.0, 15723.0, 5370.0, 2686.0, 1475.0, 1595.0, 3018.0, 3383.0, 9886.0, 1075.0, 3183.0, 4149.0, 2039.0, 1476.0, 1114.0, 1505.0, 10062.0, 119199.0, 6131.0, 19606.0, 1978.0, 20921.0, 38168.0, 1072.0, 1264.0, 1495.0, 990.0, 1937.0, 1174.0, 12004.0, 3742.0, 4914.0, 10268.0, 5831.0, 1514.0, 1276.0, 67802.0, 1019.0, 8904.0, 3437.0, 10297.0, 2758.0, 10402.0, 12744.0, 1358.0, 1864.0, 1514.0, 29895.0, 2389.0, 102987.0, 2251.0, 3312.0, 990.0, 3255.0, 8570.0, 6101.0, 1700.0, 3067.0, 5734.0, 1255.0, 1085.0, 2012.0, 6846.0, 2012.0, 1260.0, 1251.0, 1451.0, 11781.0, 18431.0, 10360.0, 4161.0, 1406.0, 1126.0, 4472.0, 4077.0, 1488.0, 3465.0, 1070.0, 1039.0, 1882.0, 89953.0, 96092.0, 1673.0, 1417.0, 3082.0, 2092.0, 55743.0, 4604.0, 7851.0, 124632.0, 3139.0, 2729.0, 3483.0, 1688.0, 16627.0, 5550.0, 2818.0, 1673.0, 1746.0, 3094.0, 3627.0, 10524.0, 1325.0, 3613.0, 4731.0, 2179.0, 1624.0, 1189.0, 977.0, 1585.0, 10156.0, 126168.0, 6443.0, 20505.0, 2067.0, 23934.0, 41903.0, 1225.0, 1505.0, 1614.0, 1075.0, 990.0, 2187.0, 1203.0, 12837.0, 4188.0, 5276.0, 11537.0, 6160.0, 1516.0, 1276.0, 67803.0, 1019.0, 1022.0, 10357.0, 3953.0, 12496.0, 3125.0, 11736.0, 14225.0, 1455.0, 2310.0, 1742.0, 34124.0, 2493.0, 113833.0, 2486.0, 3739.0, 1161.0, 3630.0, 10444.0, 6101.0, 1917.0, 3322.0, 6567.0, 1435.0, 1115.0, 2407.0, 7247.0, 2030.0, 1262.0, 1320.0, 1451.0, 12051.0, 19691.0, 11130.0, 4471.0, 1485.0, 1182.0, 4587.0, 4369.0, 1745.0, 3646.0, 1173.0, 1097.0, 1927.0, 92839.0, 100123.0, 1735.0, 1486.0, 3588.0, 2273.0, 58226.0, 4994.0, 8430.0, 128948.0, 3139.0, 2804.0, 3662.0, 1890.0, 1021.0, 17851.0, 1039.0, 5687.0, 3157.0, 1801.0, 2281.0, 3246.0, 4102.0, 11278.0, 1604.0, 3864.0, 5389.0, 2402.0, 1908.0, 1309.0, 997.0, 1655.0, 10237.0, 131646.0, 6830.0, 21100.0, 2169.0, 27069.0, 47806.0, 1308.0, 1799.0, 1765.0, 1181.0, 990.0, 2486.0, 1203.0, 15034.0, 4950.0, 5675.0, 1002.0, 12350.0, 6647.0, 1524.0, 1276.0, 67803.0, 1019.0, 1078.0, 11259.0, 4411.0, 13010.0, 3617.0, 12500.0, 15718.0, 1638.0, 2347.0, 1855.0, 37505.0, 2580.0, 123160.0, 2649.0, 4043.0, 1254.0, 4354.0, 1068.0, 11589.0, 7944.0, 2049.0, 3633.0, 7209.0, 1608.0, 1135.0, 2640.0, 7825.0, 2320.0, 1263.0, 1423.0, 1554.0, 12297.0, 20814.0, 12161.0, 4815.0, 1579.0, 1222.0, 4822.0, 4681.0, 1828.0, 3747.0, 1322.0, 1108.0, 2176.0, 98010.0, 103374.0, 1755.0, 1562.0, 4778.0, 2491.0, 60500.0, 1031.0, 5364.0, 8904.0, 132547.0, 3654.0, 2843.0, 3793.0, 2143.0, 1120.0, 18803.0, 1106.0, 5865.0, 3766.0, 1988.0, 2561.0, 3660.0, 4413.0, 11730.0, 1832.0, 4057.0, 6343.0, 2605.0, 2200.0, 1375.0, 1021.0, 1686.0, 10284.0, 136675.0, 7206.0, 21657.0, 2220.0, 30217.0, 51608.0, 1319.0, 2076.0, 1952.0, 1250.0, 990.0, 2732.0, 1266.0, 16019.0, 5183.0, 6906.0, 1097.0, 13324.0, 7314.0, 1532.0, 1276.0, 67803.0, 1019.0, 1101.0, 12262.0, 4956.0, 14867.0, 4045.0, 13837.0, 17221.0, 986.0, 1738.0, 2736.0, 1953.0, 41090.0, 2637.0, 131815.0, 2962.0, 4453.0, 1329.0, 4347.0, 1068.0, 13127.0, 8580.0, 1082.0, 2232.0, 3802.0, 8043.0, 1685.0, 1158.0, 2878.0, 8311.0, 2449.0, 1264.0, 1468.0, 1628.0, 12639.0, 22194.0, 14034.0, 5116.0, 1780.0, 1282.0, 5017.0, 5071.0, 1956.0, 3747.0, 1450.0, 1149.0, 2308.0, 109069.0, 107663.0, 1832.0, 1586.0, 5311.0, 2738.0, 62589.0, 1122.0, 5709.0, 9248.0, 135586.0, 3906.0, 2970.0, 3963.0, 2439.0, 1056.0, 1184.0, 19580.0, 1160.0, 6086.0, 4035.0, 2100.0, 2954.0, 3764.0, 4848.0, 12442.0, 2057.0, 4417.0, 7497.0, 2795.0, 2447.0, 1481.0, 1059.0, 1749.0, 10331.0, 141942.0, 7693.0, 22253.0, 2258.0, 34109.0, 55242.0, 1462.0, 2359.0, 2169.0, 1373.0, 990.0, 2870.0, 1266.0, 17351.0, 5429.0, 7781.0, 1211.0, 14545.0, 8822.0, 1533.0, 1276.0, 67803.0, 1019.0, 1170.0, 12271.0, 5510.0, 1046.0, 1149.0, 16284.0, 4371.0, 15202.0, 18970.0, 1069.0, 1915.0, 3130.0, 2124.0, 44416.0, 2686.0, 139875.0, 3299.0, 4782.0, 1474.0, 4726.0, 1132.0, 14853.0, 9340.0, 1229.0, 2417.0, 4139.0, 8925.0, 1746.0, 1191.0, 3335.0, 8692.0, 2578.0, 1265.0, 1572.0, 1715.0, 12942.0, 1066.0, 23403.0, 16170.0, 5546.0, 2054.0, 1343.0, 5312.0, 5402.0, 2111.0, 4450.0, 1560.0, 1185.0, 2487.0, 112950.0, 113296.0, 1884.0, 1616.0, 5916.0, 2956.0, 64586.0, 1202.0, 6074.0, 9404.0, 139422.0, 4257.0, 3034.0, 4119.0, 2785.0, 1174.0, 1275.0, 20549.0, 1210.0, 6086.0, 4263.0, 2249.0, 4342.0, 3870.0, 5205.0, 13141.0, 2210.0, 4761.0, 8672.0, 2932.0, 2666.0, 1623.0, 1091.0, 1845.0, 10384.0, 148220.0, 8419.0, 23280.0, 2369.0, 38226.0, 60733.0, 1668.0, 2659.0, 2328.0, 1373.0, 990.0, 3036.0, 1000.0, 1291.0, 18897.0, 5655.0, 7781.0, 1116.0, 1440.0, 15456.0, 9901.0, 1536.0, 1276.0, 67803.0, 1019.0, 1210.0, 15078.0, 5943.0, 1145.0, 1046.0, 1149.0, 17030.0, 5529.0, 16790.0, 20346.0, 1154.0, 2003.0, 3209.0, 2259.0, 47437.0, 2734.0, 151061.0, 3499.0, 5148.0, 1526.0, 5276.0, 1181.0, 16631.0, 10031.0, 1450.0, 2417.0, 4363.0, 9777.0, 1855.0, 1212.0, 3645.0, 9276.0, 2710.0, 1266.0, 1666.0, 1795.0, 13244.0, 1486.0, 24983.0, 18092.0, 5972.0, 2223.0, 1407.0, 5569.0, 5635.0, 2349.0, 4965.0, 1699.0, 1207.0, 2605.0, 117749.0, 118181.0, 1955.0, 980.0, 1648.0, 6725.0, 3293.0, 66220.0, 1232.0, 6574.0, 9968.0, 143626.0, 4667.0, 3115.0, 4228.0, 3181.0, 1289.0, 1374.0, 21762.0, 1239.0, 6211.0, 4489.0, 2528.0, 5256.0, 4076.0, 5575.0, 13956.0, 2376.0, 5202.0, 10131.0, 3287.0, 2867.0, 1910.0, 1124.0, 1934.0, 10423.0, 153222.0, 9141.0, 24051.0, 2423.0, 42282.0, 65077.0, 1892.0, 2990.0, 2703.0, 1423.0, 991.0, 3018.0, 1119.0, 1336.0, 19710.0, 5655.0, 9784.0, 1209.0, 1523.0, 16364.0, 10566.0, 1539.0, 1276.0, 973.0, 67803.0, 1019.0, 1232.0, 15079.0, 6351.0, 1270.0, 1116.0, 1341.0, 18283.0, 6185.0, 18941.0, 21504.0, 1240.0, 2260.0, 3432.0, 2456.0, 51027.0, 2773.0, 161779.0, 3736.0, 5512.0, 1686.0, 5759.0, 1321.0, 18300.0, 10912.0, 1727.0, 2793.0, 4634.0, 11208.0, 1856.0, 1228.0, 4042.0, 9639.0, 2886.0, 1267.0, 1761.0, 1975.0, 13555.0, 991.0, 1981.0, 26667.0, 19638.0, 6501.0, 2473.0, 1495.0, 5732.0, 5819.0, 2620.0, 7161.0, 1794.0, 1258.0, 2769.0, 124869.0, 122171.0, 2011.0, 1190.0, 1675.0, 7598.0, 3512.0, 68192.0, 1279.0, 8089.0, 10408.0, 147577.0, 5530.0, 993.0, 999.0, 3223.0, 4346.0, 3441.0, 1438.0, 1448.0, 23097.0, 1283.0, 6314.0, 4695.0, 2752.0, 5897.0, 4195.0, 5955.0, 15472.0, 2512.0, 5467.0, 11917.0, 3651.0, 3105.0, 2108.0, 1160.0, 2003.0, 10450.0, 158273.0, 9685.0, 24551.0, 2473.0, 47029.0, 73758.0, 2203.0, 3360.0, 2947.0, 1451.0, 991.0, 3112.0, 1171.0, 1370.0, 21081.0, 6202.0, 10538.0, 1326.0, 1660.0, 17531.0, 11485.0, 1544.0, 1276.0, 989.0, 67803.0, 1019.0, 1354.0, 17887.0, 6907.0, 1388.0, 1117.0, 1693.0, 19253.0, 6968.0, 20974.0, 22434.0, 1336.0, 2469.0, 3897.0, 2722.0, 54588.0, 1081.0, 2822.0, 172348.0, 3965.0, 5878.0, 1794.0, 6237.0, 1322.0, 20051.0, 11677.0, 1727.0, 3067.0, 4891.0, 12105.0, 2103.0, 1241.0, 4509.0, 10119.0, 3068.0, 1267.0]\n",
      "2009\n"
     ]
    }
   ],
   "source": [
    "Outlier_confirmed = []\n",
    "for data in listdata[:,0]:\n",
    "    if data < nilai[0] or data > nilai2[0]:\n",
    "        Outlier_confirmed.append(data)\n",
    "print(Outlier_confirmed)\n",
    "print(len(Outlier_confirmed))"
   ]
  },
  {
   "cell_type": "code",
   "execution_count": 92,
   "metadata": {},
   "outputs": [
    {
     "name": "stdout",
     "output_type": "stream",
     "text": [
      "[17.0, 17.0, 24.0, 40.0, 52.0, 76.0, 125.0, 125.0, 162.0, 204.0, 249.0, 350.0, 414.0, 479.0, 549.0, 618.0, 699.0, 780.0, 871.0, 974.0, 1068.0, 1068.0, 1310.0, 1457.0, 11.0, 11.0, 1596.0, 13.0, 11.0, 1696.0, 13.0, 11.0, 1789.0, 16.0, 11.0, 1921.0, 19.0, 11.0, 2029.0, 19.0, 12.0, 2144.0, 19.0, 12.0, 2144.0, 19.0, 12.0, 2346.0, 19.0, 12.0, 2346.0, 19.0, 12.0, 2495.0, 19.0, 12.0, 12.0, 2563.0, 19.0, 12.0, 16.0, 2615.0, 19.0, 12.0, 12.0, 12.0, 19.0, 2641.0, 13.0, 20.0, 17.0, 13.0, 26.0, 2682.0, 13.0, 20.0, 21.0, 13.0, 34.0, 2727.0, 16.0, 21.0, 29.0, 43.0, 13.0, 2761.0, 17.0, 34.0, 22.0, 54.0, 13.0, 2803.0, 28.0, 52.0, 66.0, 22.0, 13.0, 2835.0, 28.0, 79.0, 77.0, 22.0, 13.0, 2871.0, 35.0, 107.0, 92.0, 22.0, 13.0, 2902.0, 35.0, 148.0, 107.0, 22.0, 13.0, 2931.0, 42.0, 124.0, 197.0, 22.0, 13.0, 12.0, 2959.0, 44.0, 233.0, 145.0, 22.0, 11.0, 13.0, 15.0, 2986.0, 366.0, 50.0, 194.0, 22.0, 19.0, 17.0, 13.0, 17.0, 3008.0, 463.0, 53.0, 237.0, 22.0, 19.0, 28.0, 17.0, 13.0, 17.0, 3024.0, 631.0, 291.0, 54.0, 33.0, 35.0, 22.0, 13.0, 23.0, 3046.0, 827.0, 354.0, 60.0, 48.0, 54.0, 22.0, 15.0, 13.0, 29.0, 3056.0, 827.0, 429.0, 66.0, 48.0, 55.0, 22.0, 16.0, 13.0, 31.0, 3062.0, 22.0, 13.0, 1266.0, 11.0, 79.0, 514.0, 19.0, 66.0, 133.0, 37.0, 3075.0, 1441.0, 611.0, 72.0, 195.0, 91.0, 13.0, 22.0, 21.0, 12.0, 22.0, 37.0, 13.0, 3085.0, 1809.0, 724.0, 75.0, 289.0, 11.0, 91.0, 14.0, 22.0, 21.0, 20.0, 22.0, 40.0, 13.0, 11.0, 3099.0, 2158.0, 853.0, 342.0, 75.0, 17.0, 148.0, 14.0, 55.0, 24.0, 22.0, 48.0, 27.0, 13.0, 12.0, 3111.0, 2503.0, 988.0, 533.0, 24.0, 81.0, 148.0, 27.0, 55.0, 13.0, 43.0, 22.0, 55.0, 29.0, 12.0, 13.0, 12.0, 11.0, 3122.0, 2978.0, 1135.0, 623.0, 28.0, 148.0, 84.0, 28.0, 71.0, 16.0, 58.0, 14.0, 22.0, 55.0, 29.0, 13.0, 13.0, 19.0, 19.0, 12.0, 11.0, 3130.0, 3405.0, 1284.0, 830.0, 44.0, 243.0, 91.0, 34.0, 41.0, 137.0, 76.0, 21.0, 11.0, 74.0, 22.0, 18.0, 29.0, 13.0, 25.0, 17.0, 13.0, 11.0, 3133.0, 4032.0, 1043.0, 67.0, 1433.0, 450.0, 94.0, 42.0, 54.0, 177.0, 106.0, 37.0, 16.0, 83.0, 22.0, 23.0, 33.0, 11.0, 11.0, 14.0, 13.0, 13.0, 32.0, 18.0, 17.0, 14.0, 11.0, 3139.0, 4825.0, 1375.0, 84.0, 1556.0, 562.0, 60.0, 102.0, 75.0, 233.0, 136.0, 67.0, 94.0, 20.0, 24.0, 16.0, 13.0, 12.0, 22.0, 15.0, 35.0, 13.0, 16.0, 13.0, 14.0, 13.0, 38.0, 19.0, 17.0, 20.0, 15.0, 17.0, 16.0, 75.0, 25.0, 13.0, 14.0, 14.0, 674.0, 94.0, 15.0, 48.0, 1685.0, 20.0, 5476.0, 36.0, 179.0, 25.0, 14.0, 20.0, 104.0, 1756.0, 21.0, 98.0, 30.0, 281.0, 30.0, 13.0, 25.0, 13.0, 22.0, 3144.0, 20.0, 20.0, 117.0, 97.0, 17.0, 21.0, 88.0, 34.0, 24.0, 18.0, 19.0, 123.0, 17.0, 49.0, 1812.0, 23.0, 6077.0, 42.0, 14.0, 213.0, 33.0, 23.0, 20.0, 111.0, 2311.0, 25.0, 120.0, 37.0, 335.0, 13.0, 39.0, 18.0, 860.0, 25.0, 13.0, 22.0, 3153.0, 12.0, 35.0, 15.0, 27.0, 158.0, 109.0, 19.0, 28.0, 122.0, 46.0, 32.0, 27.0, 20.0, 1100.0, 157.0, 20.0, 55.0, 1934.0, 27.0, 6820.0, 43.0, 16.0, 276.0, 12.0, 35.0, 33.0, 11.0, 21.0, 120.0, 2808.0, 36.0, 122.0, 44.0, 422.0, 13.0, 50.0, 12.0, 18.0, 32.0, 13.0, 22.0, 3160.0, 16.0, 12.0, 46.0, 11.0, 24.0, 44.0, 210.0, 12.0, 116.0, 21.0, 30.0, 178.0, 59.0, 34.0, 28.0, 21.0, 1331.0, 206.0, 22.0, 12.0, 58.0, 2077.0, 29.0, 7503.0, 45.0, 20.0, 356.0, 14.0, 38.0, 14.0, 43.0, 17.0, 21.0, 126.0, 3647.0, 62.0, 153.0, 59.0, 465.0, 13.0, 65.0, 16.0, 19.0, 23.0, 40.0, 13.0, 22.0, 3163.0, 19.0, 14.0, 65.0, 15.0, 43.0, 62.0, 285.0, 11.0, 15.0, 15.0, 133.0, 25.0, 49.0, 220.0, 77.0, 41.0, 34.0, 24.0, 1696.0, 267.0, 26.0, 20.0, 78.0, 2234.0, 36.0, 19.0, 8215.0, 47.0, 23.0, 11.0, 434.0, 14.0, 45.0, 16.0, 60.0, 23.0, 21.0, 131.0, 4365.0, 77.0, 191.0, 75.0, 578.0, 14.0, 81.0, 19.0, 21.0, 29.0, 48.0, 13.0, 22.0, 3169.0, 26.0, 17.0, 83.0, 25.0, 61.0, 81.0, 385.0, 15.0, 13.0, 11.0, 18.0, 21.0, 150.0, 26.0, 13.0, 58.0, 289.0, 92.0, 52.0, 20.0, 36.0, 30.0, 1995.0, 342.0, 28.0, 20.0, 87.0, 2378.0, 40.0, 22.0, 12.0, 9134.0, 49.0, 15.0, 26.0, 23.0, 546.0, 19.0, 11.0, 11.0, 54.0, 16.0, 76.0, 26.0, 21.0, 139.0, 5138.0, 105.0, 231.0, 92.0, 759.0, 13.0, 14.0, 94.0, 27.0, 27.0, 35.0, 64.0, 13.0, 22.0, 3174.0, 34.0, 25.0, 119.0, 35.0, 92.0, 108.0, 527.0, 19.0, 18.0, 12.0, 22.0, 18.0, 13.0, 26.0, 157.0, 14.0, 29.0, 18.0, 68.0, 353.0, 111.0, 11.0, 11.0, 65.0, 28.0, 48.0, 36.0, 2314.0, 433.0, 32.0, 11.0, 24.0, 102.0, 2517.0, 42.0, 36.0, 12.0, 10023.0, 52.0, 18.0, 27.0, 12.0, 25.0, 639.0, 23.0, 12.0, 14.0, 16.0, 68.0, 18.0, 100.0, 37.0, 22.0, 144.0, 5982.0, 105.0, 264.0, 108.0, 1019.0, 15.0, 17.0, 110.0, 31.0, 33.0, 54.0, 69.0, 13.0, 22.0, 3177.0, 47.0, 31.0, 137.0, 44.0, 111.0, 13.0, 140.0, 728.0, 25.0, 15.0, 18.0, 13.0, 34.0, 22.0, 15.0, 30.0, 12.0, 13.0, 188.0, 17.0, 31.0, 19.0, 86.0, 431.0, 136.0, 12.0, 16.0, 72.0, 39.0, 58.0, 40.0, 11.0, 2606.0, 533.0, 38.0, 13.0, 27.0, 114.0, 2640.0, 42.0, 46.0, 15.0, 10779.0, 54.0, 21.0, 35.0, 16.0, 26.0, 771.0, 25.0, 14.0, 17.0, 18.0, 71.0, 22.0, 119.0, 43.0, 22.0, 13.0, 11.0, 152.0, 6803.0, 110.0, 300.0, 131.0, 1228.0, 17.0, 17.0, 124.0, 47.0, 34.0, 56.0, 80.0, 13.0, 22.0, 3182.0, 66.0, 32.0, 151.0, 48.0, 132.0, 14.0, 13.0, 15.0, 161.0, 965.0, 29.0, 16.0, 21.0, 13.0, 41.0, 22.0, 16.0, 37.0, 12.0, 20.0, 198.0, 18.0, 11.0, 35.0, 23.0, 108.0, 513.0, 159.0, 12.0, 12.0, 23.0, 77.0, 42.0, 60.0, 41.0, 13.0, 3024.0, 645.0, 43.0, 15.0, 32.0, 122.0, 2757.0, 46.0, 54.0, 16.0, 11591.0, 54.0, 11.0, 22.0, 37.0, 20.0, 33.0, 864.0, 32.0, 21.0, 24.0, 24.0, 78.0, 31.0, 140.0, 65.0, 25.0, 16.0, 11.0, 158.0, 7716.0, 146.0, 359.0, 168.0, 1408.0, 13.0, 20.0, 19.0, 146.0, 47.0, 36.0, 63.0, 87.0, 13.0, 22.0, 3186.0, 73.0, 35.0, 11.0, 185.0, 15.0, 56.0, 184.0, 16.0, 13.0, 15.0, 198.0, 1218.0, 40.0, 16.0, 31.0, 16.0, 50.0, 22.0, 18.0, 14.0, 45.0, 12.0, 15.0, 205.0, 20.0, 15.0, 44.0, 12.0, 27.0, 128.0, 705.0, 13.0, 201.0, 14.0, 12.0, 16.0, 31.0, 90.0, 51.0, 75.0, 46.0, 17.0, 3523.0, 775.0, 49.0, 16.0, 35.0, 136.0, 2898.0, 50.0, 71.0, 20.0, 12428.0, 56.0, 12.0, 23.0, 43.0, 28.0, 36.0, 1039.0, 39.0, 26.0, 30.0, 30.0, 88.0, 33.0, 160.0, 82.0, 17.0, 26.0, 16.0, 15.0, 162.0, 8464.0, 180.0, 433.0, 214.0, 1789.0, 17.0, 23.0, 24.0, 24.0, 173.0, 69.0, 69.0, 85.0, 111.0, 13.0, 22.0, 3187.0, 99.0, 49.0, 11.0, 239.0, 18.0, 89.0, 259.0, 12.0, 20.0, 15.0, 26.0, 267.0, 1550.0, 12.0, 55.0, 23.0, 33.0, 18.0, 63.0, 31.0, 22.0, 23.0, 54.0, 13.0, 27.0, 225.0, 25.0, 15.0, 58.0, 14.0, 28.0, 146.0, 828.0, 13.0, 240.0, 16.0, 16.0, 17.0, 39.0, 104.0, 11.0, 57.0, 93.0, 52.0, 17.0, 4032.0, 920.0, 50.0, 20.0, 58.0, 157.0, 3036.0, 52.0, 85.0, 26.0, 13155.0, 57.0, 14.0, 29.0, 45.0, 29.0, 39.0, 1173.0, 11.0, 44.0, 27.0, 30.0, 38.0, 96.0, 43.0, 187.0, 92.0, 24.0, 26.0, 16.0, 28.0, 15.0, 165.0, 9387.0, 239.0, 488.0, 12.0, 12.0, 277.0, 2352.0, 20.0, 27.0, 29.0, 24.0, 199.0, 69.0, 85.0, 11.0, 87.0, 139.0, 13.0, 22.0, 3193.0, 141.0, 65.0, 18.0, 273.0, 31.0, 122.0, 335.0, 17.0, 22.0, 18.0, 31.0, 355.0, 1941.0, 14.0, 65.0, 30.0, 37.0, 19.0, 74.0, 11.0, 33.0, 26.0, 24.0, 66.0, 16.0, 34.0, 234.0, 27.0, 16.0, 86.0, 15.0, 36.0, 158.0, 1011.0, 16.0, 324.0, 16.0, 18.0, 19.0, 13.0, 44.0, 123.0, 11.0, 60.0, 120.0, 58.0, 11.0, 19.0, 5387.0, 1107.0, 53.0, 14.0, 21.0, 72.0, 170.0, 3160.0, 54.0, 98.0, 36.0, 13915.0, 62.0, 16.0, 30.0, 50.0, 37.0, 44.0, 1339.0, 11.0, 50.0, 34.0, 32.0, 55.0, 107.0, 57.0, 209.0, 115.0, 30.0, 30.0, 21.0, 31.0, 17.0, 169.0, 10348.0, 308.0, 536.0, 15.0, 14.0, 356.0, 2921.0, 22.0, 32.0, 13.0, 32.0, 12.0, 31.0, 238.0, 80.0, 112.0, 12.0, 12.0, 164.0, 163.0, 13.0, 22.0, 3199.0, 163.0, 78.0, 11.0, 12.0, 31.0, 310.0, 36.0, 154.0, 417.0, 18.0, 26.0, 22.0, 38.0, 537.0, 2373.0, 21.0, 81.0, 34.0, 53.0, 21.0, 90.0, 12.0, 36.0, 12.0, 31.0, 36.0, 77.0, 17.0, 41.0, 271.0, 38.0, 17.0, 105.0, 16.0, 39.0, 168.0, 1143.0, 17.0, 359.0, 14.0, 16.0, 22.0, 25.0, 13.0, 11.0, 53.0, 139.0, 11.0, 68.0, 145.0, 66.0, 12.0, 20.0, 6507.0, 1275.0, 63.0, 15.0, 26.0, 72.0, 181.0, 3294.0, 54.0, 120.0, 40.0, 14681.0, 63.0, 17.0, 31.0, 53.0, 50.0, 48.0, 1487.0, 12.0, 59.0, 40.0, 37.0, 61.0, 136.0, 71.0, 246.0, 133.0, 34.0, 30.0, 25.0, 39.0, 20.0, 174.0, 11198.0, 358.0, 591.0, 19.0, 18.0, 425.0, 3605.0, 27.0, 38.0, 13.0, 41.0, 12.0, 31.0, 265.0, 97.0, 131.0, 14.0, 15.0, 170.0, 184.0, 13.0, 22.0, 3203.0, 210.0, 102.0, 11.0, 18.0, 34.0, 370.0, 43.0, 192.0, 479.0, 22.0, 29.0, 25.0, 43.0, 646.0, 12.0, 2935.0, 27.0, 91.0, 38.0, 67.0, 22.0, 102.0, 15.0, 61.0, 14.0, 34.0, 41.0, 100.0, 17.0, 46.0, 291.0, 51.0, 20.0, 130.0, 17.0, 43.0, 186.0, 1283.0, 21.0, 445.0, 17.0, 16.0, 27.0, 32.0, 18.0, 12.0, 11.0, 59.0, 161.0, 11.0, 68.0, 172.0, 71.0, 13.0, 25.0, 7560.0, 1444.0, 68.0, 15.0, 32.0, 86.0, 191.0, 3452.0, 56.0, 137.0, 44.0, 15362.0, 77.0, 17.0, 11.0, 31.0, 57.0, 60.0, 12.0, 59.0, 1651.0, 17.0, 62.0, 41.0, 41.0, 73.0, 144.0, 79.0, 266.0, 146.0, 43.0, 32.0, 29.0, 44.0, 22.0, 177.0, 11947.0, 373.0, 666.0, 20.0, 18.0, 501.0, 4313.0, 32.0, 44.0, 18.0, 52.0, 14.0, 38.0, 289.0, 111.0, 165.0, 14.0, 21.0, 195.0, 201.0, 13.0, 22.0, 3207.0, 244.0, 116.0, 14.0, 21.0, 40.0, 409.0, 54.0, 216.0, 540.0, 24.0, 35.0, 33.0, 46.0, 846.0, 12.0, 3565.0, 34.0, 102.0, 42.0, 94.0, 22.0, 136.0, 18.0, 61.0, 17.0, 40.0, 50.0, 116.0, 20.0, 52.0, 315.0, 54.0, 20.0, 152.0, 18.0, 44.0, 204.0, 1447.0, 23.0, 486.0, 20.0, 17.0, 34.0, 35.0, 18.0, 15.0, 67.0, 179.0, 11.0, 82.0, 180.0, 78.0, 15.0, 28.0, 8078.0, 1584.0, 73.0, 22.0, 34.0, 99.0, 198.0, 3603.0, 61.0, 158.0, 49.0, 15887.0, 77.0, 18.0, 13.0, 36.0, 61.0, 79.0, 15.0, 70.0, 1766.0, 18.0, 71.0, 47.0, 46.0, 83.0, 152.0, 94.0, 295.0, 151.0, 45.0, 32.0, 34.0, 51.0, 28.0, 11.0, 183.0, 12641.0, 401.0, 715.0, 23.0, 22.0, 574.0, 4934.0, 37.0, 45.0, 20.0, 64.0, 16.0, 38.0, 348.0, 140.0, 189.0, 14.0, 22.0, 221.0, 211.0, 13.0, 22.0, 3210.0, 274.0, 127.0, 18.0, 22.0, 45.0, 477.0, 67.0, 231.0, 617.0, 29.0, 43.0, 44.0, 46.0, 917.0, 12.0, 16.0, 4159.0, 38.0, 119.0, 46.0, 119.0, 27.0, 151.0, 20.0, 75.0, 25.0, 44.0, 53.0, 136.0, 22.0, 52.0, 336.0, 74.0, 11.0, 21.0, 173.0, 21.0, 48.0, 220.0, 12.0, 13.0, 1632.0, 11.0, 29.0, 564.0, 22.0, 18.0, 37.0, 46.0, 18.0, 16.0, 78.0, 187.0, 11.0, 86.0, 191.0, 85.0, 19.0, 27.0, 8911.0, 1810.0, 79.0, 22.0, 38.0, 136.0, 209.0, 3739.0, 64.0, 174.0, 57.0, 16523.0, 85.0, 19.0, 15.0, 41.0, 62.0, 94.0, 19.0, 80.0, 1867.0, 23.0, 76.0, 53.0, 54.0, 92.0, 163.0, 107.0, 311.0, 176.0, 47.0, 32.0, 38.0, 58.0, 30.0, 12.0, 186.0, 13341.0, 477.0, 765.0, 26.0, 22.0, 649.0, 5373.0, 38.0, 11.0, 49.0, 23.0, 65.0, 16.0, 38.0, 380.0, 150.0, 206.0, 15.0, 24.0, 236.0, 229.0, 13.0, 22.0, 3212.0, 307.0, 143.0, 25.0, 25.0, 45.0, 512.0, 91.0, 260.0, 727.0, 30.0, 51.0, 47.0, 46.0, 1003.0, 12.0, 18.0, 4698.0, 45.0, 142.0, 51.0, 150.0, 27.0, 179.0, 21.0, 121.0, 27.0, 48.0, 65.0, 150.0, 13.0, 23.0, 66.0, 381.0, 78.0, 14.0, 22.0, 193.0, 22.0, 56.0, 243.0, 17.0, 13.0, 2035.0, 14.0, 33.0, 686.0, 23.0, 19.0, 43.0, 50.0, 18.0, 18.0, 11.0, 88.0, 203.0, 11.0, 98.0, 191.0, 94.0, 21.0, 34.0, 10328.0, 2016.0, 81.0, 22.0, 47.0, 150.0, 221.0, 3872.0, 65.0, 210.0, 65.0, 17127.0, 92.0, 19.0, 15.0, 44.0, 63.0, 125.0, 22.0, 90.0, 2101.0, 11.0, 26.0, 89.0, 57.0, 55.0, 107.0, 177.0, 129.0, 345.0, 197.0, 58.0, 34.0, 41.0, 61.0, 36.0, 13.0, 192.0, 14045.0, 591.0, 821.0, 27.0, 23.0, 725.0, 6159.0, 45.0, 12.0, 64.0, 24.0, 73.0, 18.0, 39.0, 432.0, 179.0, 277.0, 16.0, 22.0, 283.0, 329.0, 13.0, 22.0, 3212.0, 13.0, 308.0, 173.0, 25.0, 29.0, 65.0, 582.0, 12.0, 103.0, 356.0, 845.0, 34.0, 60.0, 65.0, 72.0, 1232.0, 13.0, 21.0, 5489.0, 53.0, 167.0, 67.0, 153.0, 29.0, 247.0, 23.0, 150.0, 30.0, 51.0, 72.0, 160.0, 13.0, 23.0, 11.0, 66.0, 400.0, 92.0, 14.0, 22.0, 205.0, 23.0, 63.0, 273.0, 20.0, 13.0, 2240.0, 15.0, 34.0, 819.0, 24.0, 23.0, 48.0, 54.0, 18.0, 19.0, 12.0, 99.0, 218.0, 11.0, 108.0, 242.0, 103.0, 24.0, 40.0, 10869.0, 2349.0, 83.0, 22.0, 58.0, 178.0, 240.0, 3993.0, 69.0, 235.0, 73.0, 17669.0, 93.0, 19.0, 15.0, 46.0, 65.0, 141.0, 27.0, 93.0, 2248.0, 11.0, 29.0, 101.0, 61.0, 59.0, 121.0, 182.0, 159.0, 380.0, 220.0, 63.0, 34.0, 41.0, 65.0, 40.0, 18.0, 200.0, 14792.0, 687.0, 895.0, 30.0, 24.0, 812.0, 7097.0, 52.0, 12.0, 66.0, 26.0, 80.0, 18.0, 43.0, 495.0, 193.0, 326.0, 19.0, 27.0, 309.0, 362.0, 13.0, 22.0, 3213.0, 15.0, 462.0, 203.0, 27.0, 34.0, 65.0, 652.0, 14.0, 124.0, 433.0, 959.0, 39.0, 67.0, 86.0, 12.0, 72.0, 13.0, 1504.0, 13.0, 21.0, 6268.0, 66.0, 193.0, 79.0, 153.0, 33.0, 318.0, 24.0, 175.0, 35.0, 51.0, 80.0, 189.0, 13.0, 23.0, 12.0, 66.0, 426.0, 100.0, 15.0, 23.0, 235.0, 25.0, 72.0, 295.0, 21.0, 16.0, 2523.0, 18.0, 35.0, 950.0, 24.0, 24.0, 57.0, 69.0, 18.0, 20.0, 15.0, 112.0, 237.0, 11.0, 118.0, 272.0, 118.0, 24.0, 42.0, 12210.0, 2607.0, 87.0, 23.0, 66.0, 226.0, 280.0, 4110.0, 69.0, 263.0, 86.0, 18279.0, 94.0, 19.0, 16.0, 52.0, 67.0, 174.0, 29.0, 97.0, 2396.0, 11.0, 30.0, 108.0, 65.0, 63.0, 138.0, 203.0, 174.0, 409.0, 248.0, 76.0, 34.0, 44.0, 66.0, 43.0, 18.0, 204.0, 15447.0, 793.0, 948.0, 32.0, 25.0, 908.0, 7978.0, 57.0, 14.0, 70.0, 29.0, 89.0, 21.0, 48.0, 544.0, 193.0, 380.0, 23.0, 32.0, 354.0, 379.0, 13.0, 22.0, 3215.0, 18.0, 462.0, 245.0, 29.0, 42.0, 73.0, 702.0, 16.0, 138.0, 503.0, 1076.0, 50.0, 76.0, 93.0, 14.0, 81.0, 21.0, 1709.0, 16.0, 21.0, 7067.0, 76.0, 213.0, 80.0, 200.0, 44.0, 345.0, 33.0, 216.0, 43.0, 67.0, 94.0, 210.0, 13.0, 23.0, 12.0, 109.0, 456.0, 111.0, 15.0, 23.0, 256.0, 26.0, 82.0, 12.0, 319.0, 27.0, 19.0, 3019.0, 19.0, 36.0, 1057.0, 25.0, 24.0, 12.0, 65.0, 80.0, 20.0, 21.0, 15.0, 119.0, 247.0, 11.0, 126.0, 297.0, 135.0, 24.0, 48.0, 13197.0, 2767.0, 92.0, 23.0, 77.0, 246.0, 306.0, 4232.0, 70.0, 287.0, 95.0, 18849.0, 99.0, 20.0, 22.0, 54.0, 70.0, 194.0, 29.0, 107.0, 2511.0, 11.0, 32.0, 113.0, 66.0, 66.0, 169.0, 221.0, 181.0, 435.0, 270.0, 94.0, 34.0, 47.0, 71.0, 45.0, 24.0, 208.0, 16081.0, 870.0, 1002.0, 33.0, 25.0, 1006.0, 8958.0, 69.0, 16.0, 80.0, 32.0, 97.0, 21.0, 50.0, 583.0, 226.0, 448.0, 32.0, 38.0, 390.0, 416.0, 13.0, 22.0, 3216.0, 24.0, 597.0, 300.0, 31.0, 42.0, 90.0, 755.0, 17.0, 171.0, 599.0, 1276.0, 57.0, 82.0, 99.0, 15.0, 90.0, 21.0, 1932.0, 17.0, 22.0, 7867.0, 83.0, 231.0, 88.0, 222.0, 44.0, 418.0, 39.0, 241.0, 43.0, 72.0, 98.0, 238.0, 17.0, 24.0, 13.0, 121.0, 483.0, 128.0]\n",
      "2146\n"
     ]
    }
   ],
   "source": [
    "Outlier_deaths = []\n",
    "for data in listdata[:,1]:\n",
    "    if data < nilai[1] or data > nilai2[1]:\n",
    "        Outlier_deaths.append(data)\n",
    "print(Outlier_deaths)\n",
    "print(len(Outlier_deaths))\n",
    "\n"
   ]
  },
  {
   "cell_type": "code",
   "execution_count": 93,
   "metadata": {},
   "outputs": [
    {
     "name": "stdout",
     "output_type": "stream",
     "text": [
      "[80.0, 88.0, 90.0, 141.0, 168.0, 295.0, 386.0, 522.0, 633.0, 78.0, 817.0, 94.0, 81.0, 1115.0, 88.0, 123.0, 86.0, 112.0, 1439.0, 112.0, 175.0, 116.0, 156.0, 1795.0, 141.0, 201.0, 153.0, 186.0, 72.0, 73.0, 71.0, 71.0, 2222.0, 167.0, 242.0, 191.0, 208.0, 88.0, 105.0, 81.0, 80.0, 2639.0, 212.0, 270.0, 218.0, 247.0, 105.0, 128.0, 93.0, 79.0, 80.0, 85.0, 2686.0, 275.0, 246.0, 321.0, 304.0, 127.0, 152.0, 125.0, 102.0, 92.0, 92.0, 3459.0, 314.0, 296.0, 360.0, 339.0, 157.0, 170.0, 139.0, 128.0, 105.0, 104.0, 4774.0, 362.0, 357.0, 403.0, 364.0, 193.0, 187.0, 157.0, 152.0, 136.0, 114.0, 80.0, 90.0, 87.0, 5623.0, 410.0, 391.0, 428.0, 425.0, 221.0, 210.0, 186.0, 184.0, 156.0, 119.0, 98.0, 124.0, 101.0, 71.0, 6639.0, 465.0, 440.0, 456.0, 464.0, 255.0, 240.0, 218.0, 207.0, 173.0, 131.0, 79.0, 108.0, 140.0, 105.0, 82.0, 71.0, 7862.0, 524.0, 509.0, 507.0, 498.0, 280.0, 275.0, 258.0, 225.0, 191.0, 156.0, 85.0, 114.0, 161.0, 122.0, 90.0, 79.0, 9128.0, 565.0, 522.0, 535.0, 527.0, 361.0, 310.0, 280.0, 254.0, 211.0, 169.0, 111.0, 122.0, 177.0, 136.0, 93.0, 89.0, 79.0, 10337.0, 606.0, 573.0, 604.0, 561.0, 413.0, 362.0, 318.0, 274.0, 231.0, 188.0, 120.0, 145.0, 186.0, 152.0, 112.0, 86.0, 102.0, 84.0, 11788.0, 642.0, 637.0, 633.0, 634.0, 474.0, 433.0, 356.0, 299.0, 254.0, 217.0, 136.0, 153.0, 199.0, 169.0, 126.0, 90.0, 118.0, 79.0, 86.0, 72.0, 76.0, 71.0, 11881.0, 690.0, 736.0, 679.0, 661.0, 539.0, 489.0, 281.0, 373.0, 316.0, 231.0, 175.0, 169.0, 211.0, 184.0, 149.0, 97.0, 134.0, 96.0, 95.0, 77.0, 78.0, 76.0, 15299.0, 728.0, 830.0, 719.0, 692.0, 597.0, 555.0, 302.0, 401.0, 328.0, 250.0, 204.0, 178.0, 227.0, 203.0, 162.0, 104.0, 149.0, 107.0, 104.0, 90.0, 81.0, 76.0, 15343.0, 755.0, 868.0, 760.0, 714.0, 637.0, 613.0, 321.0, 418.0, 335.0, 261.0, 222.0, 189.0, 249.0, 219.0, 170.0, 106.0, 163.0, 115.0, 106.0, 102.0, 81.0, 88.0, 73.0, 78.0, 16748.0, 786.0, 943.0, 782.0, 731.0, 663.0, 645.0, 343.0, 452.0, 349.0, 276.0, 227.0, 198.0, 261.0, 234.0, 183.0, 112.0, 173.0, 124.0, 116.0, 102.0, 87.0, 94.0, 80.0, 80.0, 18971.0, 822.0, 1002.0, 808.0, 768.0, 712.0, 683.0, 355.0, 458.0, 372.0, 289.0, 243.0, 215.0, 268.0, 248.0, 199.0, 134.0, 186.0, 129.0, 124.0, 104.0, 91.0, 98.0, 83.0, 80.0, 20969.0, 851.0, 1033.0, 867.0, 783.0, 744.0, 719.0, 377.0, 478.0, 384.0, 307.0, 249.0, 235.0, 272.0, 261.0, 218.0, 147.0, 192.0, 144.0, 129.0, 104.0, 96.0, 104.0, 88.0, 81.0, 23383.0, 890.0, 1068.0, 932.0, 804.0, 792.0, 754.0, 387.0, 498.0, 401.0, 321.0, 270.0, 248.0, 276.0, 274.0, 228.0, 161.0, 195.0, 150.0, 131.0, 112.0, 102.0, 107.0, 93.0, 81.0, 26403.0, 935.0, 1112.0, 975.0, 830.0, 821.0, 790.0, 405.0, 515.0, 422.0, 338.0, 283.0, 257.0, 73.0, 279.0, 277.0, 235.0, 168.0, 199.0, 156.0, 133.0, 112.0, 102.0, 112.0, 93.0, 73.0, 82.0, 28993.0, 983.0, 1170.0, 1016.0, 846.0, 868.0, 811.0, 421.0, 523.0, 123.0, 438.0, 351.0, 301.0, 271.0, 287.0, 282.0, 243.0, 176.0, 207.0, 157.0, 148.0, 112.0, 109.0, 114.0, 96.0, 72.0, 75.0, 82.0, 31536.0, 83.0, 1016.0, 1198.0, 1046.0, 866.0, 873.0, 175.0, 831.0, 443.0, 536.0, 450.0, 365.0, 342.0, 276.0, 290.0, 294.0, 247.0, 181.0, 208.0, 163.0, 149.0, 112.0, 111.0, 116.0, 103.0, 72.0, 78.0, 84.0, 33934.0, 149.0, 291.0, 1059.0, 1205.0, 1069.0, 887.0, 917.0, 850.0, 460.0, 543.0, 469.0, 386.0, 356.0, 282.0, 292.0, 296.0, 255.0, 192.0, 216.0, 168.0, 151.0, 114.0, 111.0, 119.0, 103.0, 78.0, 83.0, 85.0, 36208.0, 160.0, 291.0, 1101.0, 1231.0, 1093.0, 906.0, 936.0, 870.0, 511.0, 562.0, 490.0, 394.0, 366.0, 288.0, 294.0, 300.0, 260.0, 202.0, 216.0, 169.0, 155.0, 114.0, 124.0, 124.0, 106.0, 78.0, 83.0, 86.0, 38557.0, 276.0, 552.0, 1133.0, 1234.0, 1114.0, 916.0, 956.0, 884.0, 516.0, 577.0, 502.0, 406.0, 373.0, 297.0, 298.0, 301.0, 270.0, 210.0, 223.0, 169.0, 158.0, 114.0, 124.0, 124.0, 106.0, 78.0, 86.0, 87.0, 40592.0, 414.0, 739.0, 1181.0, 1239.0, 1124.0, 938.0, 970.0, 901.0, 578.0, 583.0, 512.0, 425.0, 379.0, 297.0, 303.0, 304.0, 277.0, 214.0, 224.0, 169.0, 158.0, 114.0, 128.0, 126.0, 106.0, 78.0, 87.0, 88.0, 42033.0, 135.0, 913.0, 523.0, 1216.0, 1244.0, 1147.0, 955.0, 979.0, 909.0, 618.0, 594.0, 513.0, 442.0, 396.0, 299.0, 306.0, 305.0, 284.0, 217.0, 226.0, 170.0, 158.0, 114.0, 128.0, 126.0, 78.0, 106.0, 87.0, 90.0, 71.0, 71.0, 43500.0, 135.0, 589.0, 1669.0, 1237.0, 1244.0, 1154.0, 960.0, 979.0, 916.0, 627.0, 606.0, 526.0, 454.0, 403.0, 76.0, 303.0, 313.0, 307.0, 295.0, 218.0, 226.0, 170.0, 158.0, 115.0, 78.0, 128.0, 126.0, 107.0, 87.0, 90.0, 72.0, 71.0, 45235.0, 622.0, 118.0, 2134.0, 1256.0, 1247.0, 1161.0, 968.0, 984.0, 919.0, 642.0, 612.0, 527.0, 464.0, 76.0, 412.0, 308.0, 314.0, 307.0, 295.0, 223.0, 227.0, 170.0, 159.0, 78.0, 117.0, 128.0, 126.0, 109.0, 87.0, 90.0, 73.0, 71.0, 46488.0, 724.0, 118.0, 2394.0, 1260.0, 1247.0, 1176.0, 979.0, 984.0, 923.0, 700.0, 621.0, 542.0, 466.0, 76.0, 430.0, 315.0, 315.0, 307.0, 295.0, 230.0, 227.0, 170.0, 159.0, 78.0, 123.0, 130.0, 127.0, 109.0, 88.0, 91.0, 73.0, 71.0, 47743.0, 724.0, 2731.0, 247.0, 1274.0, 1247.0, 1191.0, 990.0, 984.0, 927.0, 719.0, 627.0, 101.0, 547.0, 478.0, 434.0, 320.0, 319.0, 307.0, 295.0, 234.0, 227.0, 170.0, 159.0, 78.0, 129.0, 131.0, 131.0, 88.0, 111.0, 91.0, 73.0, 71.0, 49134.0, 1045.0, 2959.0, 288.0, 183.0, 1282.0, 1249.0, 1195.0, 995.0, 984.0, 932.0, 726.0, 325.0, 118.0, 627.0, 554.0, 488.0, 436.0, 326.0, 320.0, 307.0, 295.0, 238.0, 232.0, 96.0, 170.0, 159.0, 133.0, 131.0, 131.0, 88.0, 111.0, 91.0, 73.0, 71.0, 72.0, 50318.0, 1045.0, 2959.0, 333.0, 183.0, 1289.0, 1249.0, 1197.0, 999.0, 984.0, 934.0, 734.0, 325.0, 118.0, 629.0, 564.0, 498.0, 441.0, 334.0, 321.0, 308.0, 295.0, 241.0, 232.0, 96.0, 170.0, 160.0, 137.0, 132.0, 132.0, 88.0, 112.0, 91.0, 73.0, 71.0, 72.0, 51553.0, 1296.0, 1249.0, 1197.0, 1005.0, 984.0, 934.0, 739.0, 630.0, 566.0, 503.0, 446.0, 342.0, 324.0, 310.0, 295.0, 243.0, 232.0, 170.0, 160.0, 140.0, 132.0, 77.0, 133.0, 88.0, 112.0, 73.0, 71.0, 72.0, 91.0, 325.0, 1439.0, 2959.0, 118.0, 97.0, 510.0, 193.0, 52960.0, 1966.0, 2959.0, 510.0, 517.0, 1299.0, 1250.0, 1211.0, 1014.0, 984.0, 934.0, 118.0, 741.0, 325.0, 630.0, 569.0, 511.0, 447.0, 349.0, 324.0, 310.0, 295.0, 243.0, 232.0, 105.0, 172.0, 160.0, 143.0, 78.0, 132.0, 133.0, 89.0, 113.0, 91.0, 73.0, 71.0, 73.0, 54288.0, 2335.0, 4590.0, 510.0, 517.0, 1304.0, 1250.0, 1211.0, 1014.0, 984.0, 934.0, 118.0, 741.0, 325.0, 631.0, 570.0, 516.0, 453.0, 353.0, 324.0, 310.0, 295.0, 243.0, 232.0, 105.0, 172.0, 160.0, 143.0, 81.0, 133.0, 91.0, 133.0, 114.0, 91.0, 73.0, 71.0, 73.0, 55142.0, 2749.0, 4590.0, 530.0, 1137.0, 1306.0, 1250.0, 1216.0, 1014.0, 984.0, 934.0, 144.0, 746.0, 325.0, 631.0, 570.0, 516.0, 455.0, 360.0, 325.0, 310.0, 295.0, 248.0, 233.0, 109.0, 77.0, 172.0, 161.0, 84.0, 144.0, 133.0, 91.0, 133.0, 115.0, 92.0, 73.0, 73.0, 75.0, 56003.0, 2941.0, 5389.0, 1028.0, 1407.0, 1307.0, 1250.0, 1216.0, 1014.0, 984.0, 934.0, 144.0, 746.0, 325.0, 631.0, 570.0, 520.0, 456.0, 369.0, 325.0, 310.0, 295.0, 114.0, 248.0, 236.0, 81.0, 172.0, 161.0, 88.0, 144.0, 133.0, 91.0, 133.0, 120.0, 92.0, 73.0, 73.0, 75.0, 56927.0, 4025.0, 5389.0, 1081.0, 105.0, 1540.0, 1313.0, 1250.0, 1216.0, 1014.0, 984.0, 934.0, 144.0, 746.0, 325.0, 631.0, 570.0, 525.0, 459.0, 378.0, 326.0, 310.0, 114.0, 295.0, 88.0, 250.0, 237.0, 92.0, 172.0, 161.0, 144.0, 133.0, 91.0, 133.0, 122.0, 92.0, 73.0, 73.0, 75.0, 106.0, 57682.0, 4440.0, 5710.0, 1107.0, 113.0, 1540.0, 1318.0, 1250.0, 1217.0, 1014.0, 984.0, 934.0, 150.0, 75.0, 747.0, 325.0, 631.0, 570.0, 536.0, 460.0, 380.0, 326.0, 114.0, 310.0, 295.0, 100.0, 250.0, 237.0, 95.0, 172.0, 161.0, 144.0, 133.0, 91.0, 133.0, 122.0, 92.0, 73.0, 74.0, 75.0, 108.0, 58382.0, 4440.0, 1588.0, 180.0, 6745.0, 1540.0, 1323.0, 1250.0, 1219.0, 87.0, 1014.0, 984.0, 191.0, 934.0, 748.0, 325.0, 631.0, 570.0, 536.0, 390.0, 463.0, 124.0, 326.0, 310.0, 295.0, 100.0, 98.0, 250.0, 237.0, 172.0, 161.0, 144.0, 133.0, 98.0, 133.0, 122.0, 92.0, 73.0, 74.0, 75.0, 147.0, 58946.0, 6072.0, 2125.0, 233.0, 7635.0, 1540.0, 263.0, 1325.0, 1250.0, 1219.0, 114.0, 1014.0, 232.0, 984.0, 934.0, 749.0, 325.0, 631.0, 570.0, 536.0, 396.0, 463.0, 140.0, 327.0, 310.0, 125.0, 295.0, 98.0, 250.0, 239.0, 172.0, 161.0, 144.0, 133.0, 113.0, 133.0, 122.0, 92.0, 73.0, 74.0, 75.0, 171.0, 149.0, 263.0, 2200.0, 266.0, 7635.0, 7024.0, 235.0, 139.0, 144.0, 2909.0, 2125.0, 131.0, 93.0, 984.0, 400.0, 570.0, 567.0, 295.0, 114.0, 1329.0, 250.0, 144.0, 161.0, 310.0, 466.0, 1250.0, 100.0, 59433.0, 1014.0, 74.0, 631.0, 934.0, 92.0, 124.0, 75.0, 239.0, 750.0, 328.0, 133.0, 536.0, 133.0, 73.0, 172.0, 1219.0, 164.0, 401.0, 453.0, 8376.0, 7432.0, 235.0, 159.0, 73.0, 152.0, 3166.0, 3355.0, 131.0, 135.0, 984.0, 401.0, 570.0, 567.0, 2200.0, 295.0, 114.0, 1332.0, 250.0, 144.0, 161.0, 310.0, 465.0, 1250.0, 100.0, 59882.0, 1014.0, 74.0, 631.0, 934.0, 92.0, 124.0, 75.0, 239.0, 752.0, 329.0, 133.0, 536.0, 133.0, 97.0, 73.0, 172.0, 1221.0, 177.0, 461.0, 80.0, 3281.0, 3243.0, 8913.0, 75.0, 8326.0, 285.0, 183.0, 79.0, 156.0, 3507.0, 3794.0, 131.0, 135.0, 984.0, 401.0, 570.0, 295.0, 119.0, 1333.0, 250.0, 144.0, 168.0, 310.0, 468.0, 1250.0, 101.0, 60324.0, 1014.0, 74.0, 631.0, 934.0, 92.0, 124.0, 75.0, 110.0, 348.0, 240.0, 752.0, 330.0, 133.0, 536.0, 133.0, 97.0, 73.0, 172.0, 1221.0, 177.0, 547.0, 587.0, 95.0, 3900.0, 3547.0, 9625.0, 103.0, 9362.0, 310.0, 199.0, 86.0, 160.0, 3730.0, 5367.0, 131.0, 135.0, 984.0, 403.0, 570.0, 295.0, 119.0, 1336.0, 250.0, 144.0, 168.0, 310.0, 468.0, 1250.0, 102.0, 60811.0, 1014.0, 74.0, 631.0, 934.0, 92.0, 124.0, 75.0, 183.0, 361.0, 240.0, 752.0, 330.0, 133.0, 536.0, 133.0, 97.0, 73.0, 172.0, 1221.0, 112.0, 204.0, 675.0, 597.0, 102.0, 4948.0, 5673.0, 82.0, 10457.0, 105.0, 10361.0, 359.0, 215.0, 94.0, 172.0, 4144.0, 7015.0, 131.0, 88.0, 135.0, 984.0, 406.0, 570.0, 295.0, 121.0, 1336.0, 250.0, 144.0, 168.0, 310.0, 469.0, 1250.0, 110.0, 61201.0, 1014.0, 74.0, 631.0, 934.0, 92.0, 124.0, 75.0, 184.0, 681.0, 242.0, 752.0, 331.0, 133.0, 536.0, 133.0, 149.0, 73.0, 172.0, 1222.0, 72.0, 225.0, 227.0, 858.0, 597.0, 116.0, 5700.0, 6658.0, 97.0, 73.0, 11133.0, 122.0, 79.0, 10950.0, 372.0, 259.0, 115.0, 183.0, 4528.0, 9357.0, 1530.0, 97.0, 135.0, 984.0, 408.0, 570.0, 295.0, 123.0, 1337.0, 250.0, 144.0, 168.0, 310.0, 469.0, 1250.0, 110.0, 61732.0, 1014.0, 74.0, 631.0, 934.0, 92.0, 124.0, 75.0, 256.0, 869.0, 242.0, 752.0, 334.0, 133.0, 536.0, 133.0, 171.0, 73.0, 172.0, 1222.0, 72.0, 225.0, 265.0, 1063.0, 597.0, 121.0, 5700.0, 8481.0, 114.0, 84.0, 11679.0, 131.0, 89.0, 12384.0, 404.0, 320.0, 139.0, 198.0, 4811.0, 12285.0, 1530.0, 97.0, 135.0, 984.0, 410.0, 570.0, 295.0, 125.0, 1341.0, 250.0, 144.0, 168.0, 310.0, 469.0, 1251.0, 112.0, 62098.0, 1014.0, 74.0, 631.0, 934.0, 92.0, 124.0, 75.0, 466.0, 1072.0, 242.0, 752.0, 334.0, 133.0, 536.0, 133.0, 191.0, 73.0, 172.0, 1225.0, 72.0, 479.0, 272.0, 1359.0, 75.0, 603.0, 132.0, 7202.0, 9211.0, 135.0, 95.0, 12391.0, 143.0, 132.0, 13030.0, 424.0, 388.0, 250.0, 206.0, 212.0, 5033.0, 14709.0, 1595.0, 97.0, 105.0, 135.0, 984.0, 412.0, 570.0, 295.0, 125.0, 1349.0, 250.0, 144.0, 168.0, 310.0, 469.0, 1251.0, 112.0, 62570.0, 1014.0, 74.0, 631.0, 934.0, 92.0, 124.0, 75.0, 466.0, 2665.0, 242.0, 752.0, 334.0, 133.0, 536.0, 133.0, 191.0, 73.0, 172.0, 1225.0, 228.0, 636.0, 279.0, 1527.0, 120.0, 156.0, 603.0, 150.0, 7927.0, 13500.0, 157.0, 102.0, 75.0, 13911.0, 152.0, 161.0, 14620.0, 424.0, 72.0, 479.0, 250.0, 76.0, 209.0, 115.0, 228.0, 5228.0, 16780.0, 1823.0, 229.0, 162.0, 135.0, 984.0, 415.0, 570.0, 295.0, 125.0, 1351.0, 250.0, 144.0, 168.0, 310.0, 469.0, 1251.0, 123.0, 62889.0, 1014.0, 74.0, 631.0, 935.0, 92.0, 124.0, 75.0, 466.0, 5644.0, 242.0, 753.0, 338.0, 133.0, 536.0, 133.0, 191.0, 73.0, 172.0, 1225.0, 240.0, 1095.0, 295.0, 1696.0, 127.0, 156.0, 603.0, 157.0, 9444.0, 16100.0, 198.0, 123.0, 81.0, 14656.0, 170.0, 224.0, 15729.0, 424.0, 73.0, 80.0, 537.0, 250.0, 74.0, 76.0, 394.0, 220.0, 121.0, 165.0, 240.0, 5408.0, 19259.0, 1823.0, 342.0, 243.0, 135.0, 984.0, 418.0, 570.0, 74.0, 295.0, 125.0, 1356.0, 250.0, 144.0, 168.0, 310.0, 469.0, 1251.0, 128.0, 63153.0, 1014.0, 74.0, 631.0, 935.0, 92.0, 124.0, 75.0, 1592.0, 7024.0, 242.0, 753.0, 341.0, 133.0, 536.0, 135.0, 291.0, 73.0, 172.0, 1226.0, 248.0, 1436.0, 337.0, 2132.0, 127.0, 234.0, 73.0, 894.0, 603.0, 179.0, 10934.0, 18700.0, 225.0, 148.0, 103.0, 15473.0, 182.0, 241.0, 16847.0, 472.0, 80.0, 80.0, 645.0, 250.0, 83.0, 94.0, 394.0, 71.0, 252.0, 190.0, 264.0, 245.0, 5567.0, 22647.0, 103.0, 2967.0, 505.0, 333.0, 135.0, 984.0, 418.0, 570.0, 75.0, 298.0, 127.0, 1357.0, 250.0, 144.0, 168.0, 310.0, 469.0, 1251.0, 147.0, 63326.0, 1014.0, 74.0, 631.0, 935.0, 92.0, 124.0, 75.0, 1324.0, 8474.0, 242.0, 753.0, 341.0, 133.0, 537.0, 135.0, 343.0, 73.0, 172.0, 1226.0, 76.0, 256.0, 1749.0, 381.0, 2495.0, 127.0, 335.0, 88.0, 1089.0, 619.0, 201.0, 300.0, 12428.0, 22440.0, 284.0, 191.0, 112.0, 16711.0, 202.0, 338.0, 18278.0, 472.0, 81.0, 80.0, 767.0, 250.0, 92.0, 125.0, 537.0, 72.0, 267.0, 235.0, 328.0, 266.0, 5828.0, 26743.0, 103.0, 4013.0, 505.0, 415.0, 135.0, 96.0, 75.0, 984.0, 424.0, 570.0, 81.0, 299.0, 127.0, 1365.0, 252.0, 144.0, 162.0, 310.0, 469.0, 1251.0, 147.0, 63471.0, 1014.0, 74.0, 631.0, 935.0, 92.0, 124.0, 75.0, 1735.0, 9001.0, 242.0, 753.0, 343.0, 133.0, 537.0, 135.0, 422.0, 73.0, 172.0, 1228.0, 89.0, 266.0, 2022.0, 382.0, 2872.0, 127.0, 427.0, 92.0, 72.0, 1193.0, 619.0, 216.0, 300.0, 14008.0, 24575.0, 78.0, 309.0, 192.0, 134.0, 17935.0, 226.0, 403.0, 19758.0, 514.0, 82.0, 500.0, 827.0, 633.0, 250.0, 103.0, 126.0, 537.0, 93.0, 283.0, 281.0, 351.0, 282.0, 95.0, 6021.0, 30513.0, 205.0, 4846.0, 612.0, 484.0, 135.0, 108.0, 85.0, 984.0, 434.0, 570.0, 91.0, 300.0, 127.0, 1368.0, 252.0, 144.0, 162.0, 310.0, 469.0, 1251.0, 173.0, 63612.0, 1014.0, 74.0, 632.0, 935.0, 92.0, 124.0, 75.0, 2175.0, 9707.0, 244.0, 754.0, 348.0, 133.0, 537.0, 140.0, 476.0, 92.0, 73.0, 172.0, 1228.0, 99.0, 90.0, 279.0, 2507.0, 423.0, 3247.0, 127.0, 528.0, 85.0, 119.0, 78.0, 1283.0, 619.0, 100.0, 241.0, 300.0, 15438.0, 26400.0, 78.0, 396.0, 229.0, 150.0, 19736.0, 259.0, 427.0, 20996.0, 514.0, 74.0, 93.0, 500.0, 915.0, 633.0, 250.0, 127.0, 131.0, 914.0, 116.0, 75.0, 109.0, 329.0, 333.0, 420.0, 72.0, 297.0, 79.0, 95.0, 6325.0, 34219.0, 205.0, 6415.0, 674.0, 786.0, 135.0, 125.0, 93.0, 90.0, 984.0, 438.0, 570.0, 93.0, 301.0, 131.0, 1378.0, 252.0, 144.0, 162.0, 310.0, 469.0, 1251.0, 173.0, 63762.0, 1014.0, 74.0, 632.0, 935.0, 92.0, 125.0, 75.0, 2577.0, 14652.0, 245.0, 755.0, 356.0, 133.0, 538.0, 144.0, 527.0, 92.0, 73.0, 172.0, 1229.0, 104.0, 90.0, 280.0, 2998.0, 431.0, 3751.0, 127.0, 73.0, 90.0, 618.0, 88.0, 125.0, 96.0, 1327.0, 619.0, 100.0, 247.0, 300.0, 16183.0, 28700.0, 78.0, 428.0, 229.0, 164.0, 19736.0, 279.0, 477.0, 21815.0, 514.0, 110.0, 99.0, 500.0, 1005.0, 633.0, 76.0, 250.0, 156.0, 211.0, 989.0, 134.0, 75.0, 123.0, 374.0, 355.0, 488.0, 82.0, 320.0, 79.0, 95.0, 6463.0, 38080.0, 205.0, 6415.0, 793.0, 1042.0, 135.0, 144.0, 93.0, 90.0, 984.0, 441.0, 570.0, 99.0, 303.0, 131.0, 1387.0, 252.0, 144.0, 162.0, 310.0, 469.0, 1251.0, 206.0, 63945.0, 1014.0, 74.0, 633.0, 935.0, 92.0, 126.0, 75.0, 3012.0, 17448.0, 245.0, 755.0, 383.0, 133.0, 539.0, 144.0, 573.0, 92.0, 73.0, 172.0, 1230.0, 116.0, 90.0, 325.0, 3463.0, 458.0, 3986.0, 127.0, 82.0, 108.0, 728.0, 88.0, 130.0, 121.0, 1378.0, 619.0, 100.0, 259.0, 300.0, 17250.0, 28700.0, 269.0, 460.0, 375.0, 192.0, 24236.0, 344.0, 585.0, 22837.0, 575.0, 126.0, 103.0, 500.0, 1241.0, 633.0, 81.0, 250.0, 176.0, 259.0, 997.0, 73.0, 162.0, 140.0, 131.0, 406.0, 406.0, 551.0, 92.0, 344.0, 102.0, 95.0, 6598.0, 40437.0, 205.0, 8056.0, 793.0, 1326.0, 135.0, 167.0, 104.0, 95.0, 984.0, 443.0, 570.0, 107.0, 305.0, 132.0, 1395.0, 252.0, 144.0, 162.0, 310.0, 469.0, 1252.0, 216.0, 64014.0, 1014.0, 74.0, 633.0, 935.0, 92.0, 128.0, 75.0, 173.0, 3256.0, 19581.0, 246.0, 755.0, 389.0, 133.0, 540.0, 144.0, 620.0, 162.0, 73.0, 172.0, 1230.0, 131.0, 113.0, 338.0, 87.0, 4046.0, 458.0, 4157.0, 127.0, 85.0, 127.0, 898.0, 100.0, 167.0, 172.0, 1491.0, 619.0, 100.0, 276.0, 300.0, 19337.0, 36081.0, 269.0, 71.0, 559.0, 421.0, 204.0, 27039.0, 373.0, 770.0, 24392.0, 592.0, 138.0, 105.0, 500.0, 1321.0, 633.0, 93.0, 250.0, 241.0, 429.0, 1301.0, 84.0, 191.0, 184.0, 150.0, 460.0, 494.0, 615.0, 105.0, 377.0, 102.0, 95.0, 6694.0, 43208.0, 205.0, 8704.0, 888.0, 1582.0, 135.0, 186.0, 150.0, 123.0, 984.0, 448.0, 570.0, 120.0, 305.0, 132.0, 1401.0, 252.0, 144.0, 162.0, 312.0, 469.0, 1252.0, 216.0, 64073.0, 1014.0, 74.0, 73.0, 633.0, 935.0, 92.0, 130.0, 75.0, 173.0, 3791.0, 21763.0, 246.0, 755.0, 406.0, 133.0, 541.0, 151.0, 620.0, 162.0, 73.0, 173.0, 1230.0, 154.0, 237.0, 358.0, 114.0, 4512.0, 477.0, 77.0, 4681.0, 79.0, 127.0, 91.0, 134.0, 1115.0, 123.0, 179.0, 233.0, 1621.0, 619.0, 140.0, 305.0, 72.0, 300.0, 21254.0, 46300.0, 269.0, 94.0, 633.0, 506.0, 222.0, 29812.0, 452.0, 801.0, 26491.0, 622.0, 150.0, 111.0, 500.0, 1487.0, 633.0, 97.0, 250.0, 282.0, 72.0, 467.0, 1333.0, 96.0, 222.0, 196.0, 178.0, 528.0, 580.0, 631.0, 113.0, 406.0, 120.0, 95.0, 6776.0, 48021.0, 205.0, 9800.0, 888.0, 1846.0, 135.0, 239.0, 150.0, 126.0, 984.0, 455.0, 570.0, 131.0, 308.0, 133.0, 1411.0, 252.0, 144.0, 162.0, 312.0, 470.0, 1252.0, 264.0, 64142.0, 1014.0, 74.0, 82.0, 633.0, 935.0, 93.0, 131.0, 75.0, 173.0, 4154.0, 23559.0, 246.0, 755.0, 418.0, 134.0, 541.0, 152.0, 620.0, 162.0, 73.0, 173.0, 1232.0, 165.0, 347.0, 365.0, 138.0, 5240.0, 101.0, 519.0, 139.0, 5164.0, 101.0, 173.0, 92.0, 146.0, 1274.0, 174.0, 219.0, 301.0, 1736.0, 619.0, 80.0, 339.0, 348.0, 83.0, 300.0, 23206.0, 52407.0, 269.0, 96.0, 688.0, 620.0, 252.0, 32309.0, 496.0, 1011.0, 28470.0, 632.0, 161.0, 111.0, 500.0, 1608.0, 633.0, 109.0, 250.0, 317.0, 109.0, 572.0, 1438.0, 124.0, 284.0, 205.0, 206.0, 647.0, 698.0, 666.0, 123.0, 460.0, 128.0, 95.0, 6973.0, 52165.0, 205.0, 10600.0, 940.0, 2142.0, 135.0, 268.0, 192.0, 84.0, 128.0, 984.0, 464.0, 570.0, 136.0, 308.0, 135.0, 1423.0, 252.0, 144.0, 162.0, 313.0, 470.0, 1252.0, 293.0, 64187.0, 1014.0, 79.0, 92.0, 633.0, 935.0, 93.0, 132.0, 75.0, 345.0, 5162.0, 25410.0, 246.0, 756.0, 422.0, 134.0, 541.0, 120.0, 152.0, 736.0, 170.0, 73.0, 173.0, 1235.0, 182.0, 405.0, 71.0, 375.0, 149.0, 6064.0, 159.0, 539.0, 169.0, 5568.0, 129.0, 173.0, 99.0, 146.0, 72.0, 98.0, 1571.0, 197.0, 231.0, 346.0, 1773.0, 619.0, 98.0, 368.0, 384.0, 93.0, 300.0, 24932.0, 53913.0, 269.0, 112.0, 751.0, 774.0, 282.0, 35465.0, 550.0, 1183.0, 30455.0, 685.0, 170.0, 123.0, 76.0, 500.0, 1830.0, 633.0, 122.0, 250.0, 373.0, 109.0, 727.0, 1569.0, 140.0, 318.0, 233.0, 227.0, 729.0, 795.0, 685.0, 137.0, 492.0, 137.0, 410.0, 7117.0, 55668.0, 381.0, 11100.0, 91.0, 1013.0, 2423.0, 344.0, 418.0, 206.0, 84.0, 144.0, 984.0, 469.0, 570.0, 145.0, 311.0, 135.0, 1434.0, 252.0, 144.0, 162.0, 313.0, 470.0, 1252.0, 309.0, 64236.0, 1014.0, 79.0, 103.0, 634.0, 936.0, 95.0, 132.0, 75.0, 372.0, 5855.0, 28790.0, 246.0, 756.0, 435.0, 134.0, 546.0, 179.0, 158.0, 926.0, 203.0, 73.0, 173.0, 1235.0]\n",
      "2635\n"
     ]
    }
   ],
   "source": [
    "Outlier_recovered = []\n",
    "for data in listdata[:,2]:\n",
    "    if data < nilai[2] or data > nilai2[2]:\n",
    "        Outlier_recovered.append(data)\n",
    "print(Outlier_recovered)\n",
    "print(len(Outlier_recovered))"
   ]
  },
  {
   "cell_type": "code",
   "execution_count": 95,
   "metadata": {},
   "outputs": [
    {
     "name": "stdout",
     "output_type": "stream",
     "text": [
      "Counter({0.0: 7237, 1.0: 1615, 2.0: 789, 3.0: 570, 6.0: 409, 4.0: 339, 5.0: 219, 8.0: 178, 7.0: 175, 13.0: 97, 10.0: 92, 9.0: 81, 22.0: 79, 12.0: 68, 11.0: 64, 16.0: 48, 15.0: 45, 18.0: 45, 17.0: 44, 19.0: 41, 14.0: 40, 21.0: 38, 20.0: 37, 23.0: 33, 24.0: 30, 34.0: 27, 27.0: 26, 25.0: 26, 29.0: 23, 32.0: 21, 26.0: 20, 43.0: 19, 44.0: 19, 31.0: 18, 30.0: 18, 54.0: 17, 65.0: 17, 35.0: 16, 38.0: 16, 36.0: 16, 66.0: 15, 28.0: 14, 33.0: 14, 48.0: 13, 46.0: 13, 40.0: 12, 50.0: 12, 37.0: 12, 41.0: 12, 52.0: 11, 94.0: 11, 45.0: 11, 42.0: 10, 58.0: 10, 39.0: 10, 92.0: 9, 55.0: 9, 72.0: 9, 67.0: 9, 47.0: 9, 57.0: 9, 77.0: 8, 53.0: 8, 61.0: 8, 69.0: 8, 80.0: 8, 63.0: 8, 76.0: 7, 60.0: 7, 75.0: 7, 71.0: 7, 136.0: 7, 49.0: 7, 51.0: 7, 79.0: 6, 107.0: 6, 81.0: 6, 111.0: 6, 59.0: 6, 78.0: 6, 150.0: 6, 86.0: 6, 73.0: 6, 91.0: 5, 83.0: 5, 102.0: 5, 62.0: 5, 119.0: 5, 108.0: 5, 68.0: 5, 56.0: 5, 90.0: 5, 85.0: 5, 99.0: 5, 148.0: 4, 179.0: 4, 98.0: 4, 97.0: 4, 88.0: 4, 120.0: 4, 158.0: 4, 122.0: 4, 210.0: 4, 191.0: 4, 87.0: 4, 64.0: 4, 146.0: 4, 82.0: 4, 93.0: 4, 174.0: 4, 70.0: 4, 193.0: 4, 125.0: 3, 204.0: 3, 124.0: 3, 133.0: 3, 289.0: 3, 137.0: 3, 74.0: 3, 177.0: 3, 157.0: 3, 116.0: 3, 356.0: 3, 153.0: 3, 220.0: 3, 131.0: 3, 139.0: 3, 105.0: 3, 231.0: 3, 433.0: 3, 100.0: 3, 140.0: 3, 152.0: 3, 151.0: 3, 198.0: 3, 173.0: 3, 89.0: 3, 163.0: 3, 221.0: 3, 380.0: 3, 121.0: 3, 203.0: 3, 162.0: 2, 479.0: 2, 1068.0: 2, 1696.0: 2, 1789.0: 2, 2144.0: 2, 2346.0: 2, 197.0: 2, 233.0: 2, 145.0: 2, 194.0: 2, 237.0: 2, 3024.0: 2, 291.0: 2, 827.0: 2, 354.0: 2, 195.0: 2, 342.0: 2, 533.0: 2, 84.0: 2, 243.0: 2, 4032.0: 2, 104.0: 2, 123.0: 2, 213.0: 2, 335.0: 2, 109.0: 2, 3160.0: 2, 178.0: 2, 206.0: 2, 126.0: 2, 267.0: 2, 144.0: 2, 110.0: 2, 300.0: 2, 161.0: 2, 159.0: 2, 359.0: 2, 168.0: 2, 184.0: 2, 205.0: 2, 128.0: 2, 201.0: 2, 160.0: 2, 180.0: 2, 239.0: 2, 240.0: 2, 187.0: 2, 165.0: 2, 277.0: 2, 141.0: 2, 273.0: 2, 170.0: 2, 209.0: 2, 169.0: 2, 308.0: 2, 238.0: 2, 112.0: 2, 181.0: 2, 246.0: 2, 591.0: 2, 192.0: 2, 186.0: 2, 409.0: 2, 216.0: 2, 295.0: 2, 189.0: 2, 477.0: 2, 3212.0: 2, 345.0: 2, 103.0: 2, 247.0: 2, 235.0: 2, 200.0: 2, 462.0: 2, 118.0: 2, 226.0: 2, 138.0: 2, 249.0: 1, 350.0: 1, 414.0: 1, 549.0: 1, 618.0: 1, 699.0: 1, 780.0: 1, 871.0: 1, 974.0: 1, 1310.0: 1, 1457.0: 1, 1596.0: 1, 1921.0: 1, 2029.0: 1, 2495.0: 1, 2563.0: 1, 2615.0: 1, 2641.0: 1, 2682.0: 1, 2727.0: 1, 2761.0: 1, 2803.0: 1, 2835.0: 1, 2871.0: 1, 2902.0: 1, 2931.0: 1, 2959.0: 1, 2986.0: 1, 366.0: 1, 3008.0: 1, 463.0: 1, 631.0: 1, 3046.0: 1, 3056.0: 1, 429.0: 1, 3062.0: 1, 1266.0: 1, 514.0: 1, 3075.0: 1, 1441.0: 1, 611.0: 1, 3085.0: 1, 1809.0: 1, 724.0: 1, 3099.0: 1, 2158.0: 1, 853.0: 1, 3111.0: 1, 2503.0: 1, 988.0: 1, 3122.0: 1, 2978.0: 1, 1135.0: 1, 623.0: 1, 3130.0: 1, 3405.0: 1, 1284.0: 1, 830.0: 1, 3133.0: 1, 1043.0: 1, 1433.0: 1, 450.0: 1, 106.0: 1, 3139.0: 1, 4825.0: 1, 1375.0: 1, 1556.0: 1, 562.0: 1, 674.0: 1, 1685.0: 1, 5476.0: 1, 1756.0: 1, 281.0: 1, 3144.0: 1, 117.0: 1, 1812.0: 1, 6077.0: 1, 2311.0: 1, 860.0: 1, 3153.0: 1, 1100.0: 1, 1934.0: 1, 6820.0: 1, 276.0: 1, 2808.0: 1, 422.0: 1, 1331.0: 1, 2077.0: 1, 7503.0: 1, 3647.0: 1, 465.0: 1, 3163.0: 1, 285.0: 1, 2234.0: 1, 8215.0: 1, 434.0: 1, 4365.0: 1, 578.0: 1, 3169.0: 1, 385.0: 1, 1995.0: 1, 2378.0: 1, 9134.0: 1, 546.0: 1, 5138.0: 1, 759.0: 1, 3174.0: 1, 527.0: 1, 353.0: 1, 2314.0: 1, 2517.0: 1, 10023.0: 1, 639.0: 1, 5982.0: 1, 264.0: 1, 1019.0: 1, 3177.0: 1, 728.0: 1, 188.0: 1, 431.0: 1, 2606.0: 1, 114.0: 1, 2640.0: 1, 10779.0: 1, 771.0: 1, 6803.0: 1, 1228.0: 1, 3182.0: 1, 132.0: 1, 965.0: 1, 513.0: 1, 645.0: 1, 2757.0: 1, 11591.0: 1, 864.0: 1, 7716.0: 1, 1408.0: 1, 3186.0: 1, 185.0: 1, 1218.0: 1, 705.0: 1, 3523.0: 1, 775.0: 1, 2898.0: 1, 12428.0: 1, 1039.0: 1, 8464.0: 1, 214.0: 1, 3187.0: 1, 259.0: 1, 1550.0: 1, 225.0: 1, 828.0: 1, 920.0: 1, 3036.0: 1, 13155.0: 1, 1173.0: 1, 96.0: 1, 9387.0: 1, 488.0: 1, 2352.0: 1, 199.0: 1, 3193.0: 1, 355.0: 1, 1941.0: 1, 234.0: 1, 1011.0: 1, 324.0: 1, 5387.0: 1, 1107.0: 1, 13915.0: 1, 1339.0: 1, 115.0: 1, 10348.0: 1, 536.0: 1, 2921.0: 1, 164.0: 1, 3199.0: 1, 310.0: 1, 154.0: 1, 417.0: 1, 537.0: 1, 2373.0: 1, 271.0: 1, 1143.0: 1, 6507.0: 1, 1275.0: 1, 3294.0: 1, 14681.0: 1, 1487.0: 1, 11198.0: 1, 358.0: 1, 425.0: 1, 3605.0: 1, 265.0: 1, 3203.0: 1, 370.0: 1, 646.0: 1, 2935.0: 1, 130.0: 1, 1283.0: 1, 445.0: 1, 172.0: 1, 7560.0: 1, 1444.0: 1, 3452.0: 1, 15362.0: 1, 1651.0: 1, 266.0: 1, 11947.0: 1, 373.0: 1, 666.0: 1, 501.0: 1, 4313.0: 1, 3207.0: 1, 244.0: 1, 540.0: 1, 846.0: 1, 3565.0: 1, 315.0: 1, 1447.0: 1, 486.0: 1, 8078.0: 1, 1584.0: 1, 3603.0: 1, 15887.0: 1, 1766.0: 1, 183.0: 1, 12641.0: 1, 401.0: 1, 715.0: 1, 574.0: 1, 4934.0: 1, 348.0: 1, 211.0: 1, 3210.0: 1, 274.0: 1, 127.0: 1, 617.0: 1, 917.0: 1, 4159.0: 1, 336.0: 1, 1632.0: 1, 564.0: 1, 8911.0: 1, 1810.0: 1, 3739.0: 1, 16523.0: 1, 1867.0: 1, 311.0: 1, 176.0: 1, 13341.0: 1, 765.0: 1, 649.0: 1, 5373.0: 1, 236.0: 1, 229.0: 1, 307.0: 1, 143.0: 1, 512.0: 1, 260.0: 1, 727.0: 1, 1003.0: 1, 4698.0: 1, 142.0: 1, 381.0: 1, 2035.0: 1, 686.0: 1, 10328.0: 1, 2016.0: 1, 3872.0: 1, 17127.0: 1, 2101.0: 1, 129.0: 1, 14045.0: 1, 821.0: 1, 725.0: 1, 6159.0: 1, 432.0: 1, 283.0: 1, 329.0: 1, 582.0: 1, 845.0: 1, 1232.0: 1, 5489.0: 1, 167.0: 1, 400.0: 1, 2240.0: 1, 819.0: 1, 218.0: 1, 242.0: 1, 10869.0: 1, 2349.0: 1, 3993.0: 1, 17669.0: 1, 2248.0: 1, 101.0: 1, 182.0: 1, 14792.0: 1, 687.0: 1, 895.0: 1, 812.0: 1, 7097.0: 1, 495.0: 1, 326.0: 1, 309.0: 1, 362.0: 1, 3213.0: 1, 652.0: 1, 959.0: 1, 1504.0: 1, 6268.0: 1, 318.0: 1, 175.0: 1, 426.0: 1, 2523.0: 1, 950.0: 1, 272.0: 1, 12210.0: 1, 2607.0: 1, 280.0: 1, 4110.0: 1, 263.0: 1, 18279.0: 1, 2396.0: 1, 248.0: 1, 15447.0: 1, 793.0: 1, 948.0: 1, 908.0: 1, 7978.0: 1, 544.0: 1, 379.0: 1, 3215.0: 1, 245.0: 1, 702.0: 1, 503.0: 1, 1076.0: 1, 1709.0: 1, 7067.0: 1, 456.0: 1, 256.0: 1, 319.0: 1, 3019.0: 1, 1057.0: 1, 297.0: 1, 135.0: 1, 13197.0: 1, 2767.0: 1, 306.0: 1, 4232.0: 1, 287.0: 1, 95.0: 1, 18849.0: 1, 2511.0: 1, 113.0: 1, 435.0: 1, 270.0: 1, 208.0: 1, 16081.0: 1, 870.0: 1, 1002.0: 1, 1006.0: 1, 8958.0: 1, 583.0: 1, 448.0: 1, 390.0: 1, 416.0: 1, 3216.0: 1, 597.0: 1, 755.0: 1, 171.0: 1, 599.0: 1, 1276.0: 1, 1932.0: 1, 7867.0: 1, 222.0: 1, 418.0: 1, 241.0: 1, 483.0: 1})\n"
     ]
    }
   ],
   "source": [
    "Counter_confirmed = Counter(listdata[:,0])\n",
    "Counter_deaths = Counter(listdata[:,1])\n",
    "Counter_Recovered = Counter(listdata[:,2])"
   ]
  },
  {
   "cell_type": "code",
   "execution_count": 103,
   "metadata": {},
   "outputs": [
    {
     "data": {
      "image/png": "[encoded data removed]",
      "text/plain": [
       "<Figure size 432x288 with 1 Axes>"
      ]
     },
     "metadata": {
      "needs_background": "light"
     },
     "output_type": "display_data"
    }
   ],
   "source": [
    "plt.bar(Counter_confirmed.keys(),Counter_confirmed.values())\n",
    "plt.show()"
   ]
  },
  {
   "cell_type": "code",
   "execution_count": null,
   "metadata": {},
   "outputs": [],
   "source": []
  }
 ],
 "metadata": {
  "kernelspec": {
   "display_name": "Python 3",
   "language": "python",
   "name": "python3"
  },
  "language_info": {
   "codemirror_mode": {
    "name": "ipython",
    "version": 3
   },
   "file_extension": ".py",
   "mimetype": "text/x-python",
   "name": "python",
   "nbconvert_exporter": "python",
   "pygments_lexer": "ipython3",
   "version": "3.6.9"
  }
 },
 "nbformat": 4,
 "nbformat_minor": 2
}
